{
  "cells": [
    {
      "cell_type": "code",
      "execution_count": null,
      "metadata": {
        "colab": {
          "base_uri": "https://localhost:8080/"
        },
        "id": "wG7EP2fFgoTn",
        "outputId": "8b09e779-501b-43a7-f2d2-392e830f62ab"
      },
      "outputs": [
        {
          "output_type": "stream",
          "name": "stdout",
          "text": [
            "Requirement already satisfied: numpy==1.23.5 in /usr/local/lib/python3.10/dist-packages (1.23.5)\n",
            "Collecting transformers[torch]==4.35.2\n",
            "  Using cached transformers-4.35.2-py3-none-any.whl (7.9 MB)\n",
            "Requirement already satisfied: filelock in /usr/local/lib/python3.10/dist-packages (from transformers[torch]==4.35.2) (3.13.4)\n",
            "Requirement already satisfied: huggingface-hub<1.0,>=0.16.4 in /usr/local/lib/python3.10/dist-packages (from transformers[torch]==4.35.2) (0.20.3)\n",
            "Requirement already satisfied: numpy>=1.17 in /usr/local/lib/python3.10/dist-packages (from transformers[torch]==4.35.2) (1.23.5)\n",
            "Requirement already satisfied: packaging>=20.0 in /usr/local/lib/python3.10/dist-packages (from transformers[torch]==4.35.2) (24.0)\n",
            "Requirement already satisfied: pyyaml>=5.1 in /usr/local/lib/python3.10/dist-packages (from transformers[torch]==4.35.2) (6.0.1)\n",
            "Requirement already satisfied: regex!=2019.12.17 in /usr/local/lib/python3.10/dist-packages (from transformers[torch]==4.35.2) (2023.12.25)\n",
            "Requirement already satisfied: requests in /usr/local/lib/python3.10/dist-packages (from transformers[torch]==4.35.2) (2.31.0)\n",
            "Requirement already satisfied: tokenizers<0.19,>=0.14 in /usr/local/lib/python3.10/dist-packages (from transformers[torch]==4.35.2) (0.15.2)\n",
            "Requirement already satisfied: safetensors>=0.3.1 in /usr/local/lib/python3.10/dist-packages (from transformers[torch]==4.35.2) (0.4.2)\n",
            "Requirement already satisfied: tqdm>=4.27 in /usr/local/lib/python3.10/dist-packages (from transformers[torch]==4.35.2) (4.66.2)\n",
            "Requirement already satisfied: torch!=1.12.0,>=1.10 in /usr/local/lib/python3.10/dist-packages (from transformers[torch]==4.35.2) (2.2.1+cu121)\n",
            "Collecting accelerate>=0.20.3 (from transformers[torch]==4.35.2)\n",
            "  Using cached accelerate-0.29.3-py3-none-any.whl (297 kB)\n",
            "Requirement already satisfied: psutil in /usr/local/lib/python3.10/dist-packages (from accelerate>=0.20.3->transformers[torch]==4.35.2) (5.9.5)\n",
            "Requirement already satisfied: fsspec>=2023.5.0 in /usr/local/lib/python3.10/dist-packages (from huggingface-hub<1.0,>=0.16.4->transformers[torch]==4.35.2) (2023.6.0)\n",
            "Requirement already satisfied: typing-extensions>=3.7.4.3 in /usr/local/lib/python3.10/dist-packages (from huggingface-hub<1.0,>=0.16.4->transformers[torch]==4.35.2) (4.11.0)\n",
            "Requirement already satisfied: sympy in /usr/local/lib/python3.10/dist-packages (from torch!=1.12.0,>=1.10->transformers[torch]==4.35.2) (1.12)\n",
            "Requirement already satisfied: networkx in /usr/local/lib/python3.10/dist-packages (from torch!=1.12.0,>=1.10->transformers[torch]==4.35.2) (3.3)\n",
            "Requirement already satisfied: jinja2 in /usr/local/lib/python3.10/dist-packages (from torch!=1.12.0,>=1.10->transformers[torch]==4.35.2) (3.1.3)\n",
            "Collecting nvidia-cuda-nvrtc-cu12==12.1.105 (from torch!=1.12.0,>=1.10->transformers[torch]==4.35.2)\n",
            "  Using cached nvidia_cuda_nvrtc_cu12-12.1.105-py3-none-manylinux1_x86_64.whl (23.7 MB)\n",
            "Collecting nvidia-cuda-runtime-cu12==12.1.105 (from torch!=1.12.0,>=1.10->transformers[torch]==4.35.2)\n",
            "  Using cached nvidia_cuda_runtime_cu12-12.1.105-py3-none-manylinux1_x86_64.whl (823 kB)\n",
            "Collecting nvidia-cuda-cupti-cu12==12.1.105 (from torch!=1.12.0,>=1.10->transformers[torch]==4.35.2)\n",
            "  Using cached nvidia_cuda_cupti_cu12-12.1.105-py3-none-manylinux1_x86_64.whl (14.1 MB)\n",
            "Collecting nvidia-cudnn-cu12==8.9.2.26 (from torch!=1.12.0,>=1.10->transformers[torch]==4.35.2)\n",
            "  Using cached nvidia_cudnn_cu12-8.9.2.26-py3-none-manylinux1_x86_64.whl (731.7 MB)\n",
            "Collecting nvidia-cublas-cu12==12.1.3.1 (from torch!=1.12.0,>=1.10->transformers[torch]==4.35.2)\n",
            "  Using cached nvidia_cublas_cu12-12.1.3.1-py3-none-manylinux1_x86_64.whl (410.6 MB)\n",
            "Collecting nvidia-cufft-cu12==11.0.2.54 (from torch!=1.12.0,>=1.10->transformers[torch]==4.35.2)\n",
            "  Using cached nvidia_cufft_cu12-11.0.2.54-py3-none-manylinux1_x86_64.whl (121.6 MB)\n",
            "Collecting nvidia-curand-cu12==10.3.2.106 (from torch!=1.12.0,>=1.10->transformers[torch]==4.35.2)\n",
            "  Using cached nvidia_curand_cu12-10.3.2.106-py3-none-manylinux1_x86_64.whl (56.5 MB)\n",
            "Collecting nvidia-cusolver-cu12==11.4.5.107 (from torch!=1.12.0,>=1.10->transformers[torch]==4.35.2)\n",
            "  Using cached nvidia_cusolver_cu12-11.4.5.107-py3-none-manylinux1_x86_64.whl (124.2 MB)\n",
            "Collecting nvidia-cusparse-cu12==12.1.0.106 (from torch!=1.12.0,>=1.10->transformers[torch]==4.35.2)\n",
            "  Using cached nvidia_cusparse_cu12-12.1.0.106-py3-none-manylinux1_x86_64.whl (196.0 MB)\n",
            "Collecting nvidia-nccl-cu12==2.19.3 (from torch!=1.12.0,>=1.10->transformers[torch]==4.35.2)\n",
            "  Using cached nvidia_nccl_cu12-2.19.3-py3-none-manylinux1_x86_64.whl (166.0 MB)\n",
            "Collecting nvidia-nvtx-cu12==12.1.105 (from torch!=1.12.0,>=1.10->transformers[torch]==4.35.2)\n",
            "  Using cached nvidia_nvtx_cu12-12.1.105-py3-none-manylinux1_x86_64.whl (99 kB)\n",
            "Requirement already satisfied: triton==2.2.0 in /usr/local/lib/python3.10/dist-packages (from torch!=1.12.0,>=1.10->transformers[torch]==4.35.2) (2.2.0)\n",
            "Collecting nvidia-nvjitlink-cu12 (from nvidia-cusolver-cu12==11.4.5.107->torch!=1.12.0,>=1.10->transformers[torch]==4.35.2)\n",
            "  Using cached nvidia_nvjitlink_cu12-12.4.127-py3-none-manylinux2014_x86_64.whl (21.1 MB)\n",
            "Requirement already satisfied: charset-normalizer<4,>=2 in /usr/local/lib/python3.10/dist-packages (from requests->transformers[torch]==4.35.2) (3.3.2)\n",
            "Requirement already satisfied: idna<4,>=2.5 in /usr/local/lib/python3.10/dist-packages (from requests->transformers[torch]==4.35.2) (3.6)\n",
            "Requirement already satisfied: urllib3<3,>=1.21.1 in /usr/local/lib/python3.10/dist-packages (from requests->transformers[torch]==4.35.2) (2.0.7)\n",
            "Requirement already satisfied: certifi>=2017.4.17 in /usr/local/lib/python3.10/dist-packages (from requests->transformers[torch]==4.35.2) (2024.2.2)\n",
            "Requirement already satisfied: MarkupSafe>=2.0 in /usr/local/lib/python3.10/dist-packages (from jinja2->torch!=1.12.0,>=1.10->transformers[torch]==4.35.2) (2.1.5)\n",
            "Requirement already satisfied: mpmath>=0.19 in /usr/local/lib/python3.10/dist-packages (from sympy->torch!=1.12.0,>=1.10->transformers[torch]==4.35.2) (1.3.0)\n",
            "Installing collected packages: nvidia-nvtx-cu12, nvidia-nvjitlink-cu12, nvidia-nccl-cu12, nvidia-curand-cu12, nvidia-cufft-cu12, nvidia-cuda-runtime-cu12, nvidia-cuda-nvrtc-cu12, nvidia-cuda-cupti-cu12, nvidia-cublas-cu12, nvidia-cusparse-cu12, nvidia-cudnn-cu12, nvidia-cusolver-cu12, transformers, accelerate\n",
            "  Attempting uninstall: transformers\n",
            "    Found existing installation: transformers 4.38.2\n",
            "    Uninstalling transformers-4.38.2:\n",
            "      Successfully uninstalled transformers-4.38.2\n",
            "Successfully installed accelerate-0.29.3 nvidia-cublas-cu12-12.1.3.1 nvidia-cuda-cupti-cu12-12.1.105 nvidia-cuda-nvrtc-cu12-12.1.105 nvidia-cuda-runtime-cu12-12.1.105 nvidia-cudnn-cu12-8.9.2.26 nvidia-cufft-cu12-11.0.2.54 nvidia-curand-cu12-10.3.2.106 nvidia-cusolver-cu12-11.4.5.107 nvidia-cusparse-cu12-12.1.0.106 nvidia-nccl-cu12-2.19.3 nvidia-nvjitlink-cu12-12.4.127 nvidia-nvtx-cu12-12.1.105 transformers-4.35.2\n",
            "Requirement already satisfied: accelerate in /usr/local/lib/python3.10/dist-packages (0.29.3)\n",
            "Requirement already satisfied: numpy>=1.17 in /usr/local/lib/python3.10/dist-packages (from accelerate) (1.23.5)\n",
            "Requirement already satisfied: packaging>=20.0 in /usr/local/lib/python3.10/dist-packages (from accelerate) (24.0)\n",
            "Requirement already satisfied: psutil in /usr/local/lib/python3.10/dist-packages (from accelerate) (5.9.5)\n",
            "Requirement already satisfied: pyyaml in /usr/local/lib/python3.10/dist-packages (from accelerate) (6.0.1)\n",
            "Requirement already satisfied: torch>=1.10.0 in /usr/local/lib/python3.10/dist-packages (from accelerate) (2.2.1+cu121)\n",
            "Requirement already satisfied: huggingface-hub in /usr/local/lib/python3.10/dist-packages (from accelerate) (0.20.3)\n",
            "Requirement already satisfied: safetensors>=0.3.1 in /usr/local/lib/python3.10/dist-packages (from accelerate) (0.4.2)\n",
            "Requirement already satisfied: filelock in /usr/local/lib/python3.10/dist-packages (from torch>=1.10.0->accelerate) (3.13.4)\n",
            "Requirement already satisfied: typing-extensions>=4.8.0 in /usr/local/lib/python3.10/dist-packages (from torch>=1.10.0->accelerate) (4.11.0)\n",
            "Requirement already satisfied: sympy in /usr/local/lib/python3.10/dist-packages (from torch>=1.10.0->accelerate) (1.12)\n",
            "Requirement already satisfied: networkx in /usr/local/lib/python3.10/dist-packages (from torch>=1.10.0->accelerate) (3.3)\n",
            "Requirement already satisfied: jinja2 in /usr/local/lib/python3.10/dist-packages (from torch>=1.10.0->accelerate) (3.1.3)\n",
            "Requirement already satisfied: fsspec in /usr/local/lib/python3.10/dist-packages (from torch>=1.10.0->accelerate) (2023.6.0)\n",
            "Requirement already satisfied: nvidia-cuda-nvrtc-cu12==12.1.105 in /usr/local/lib/python3.10/dist-packages (from torch>=1.10.0->accelerate) (12.1.105)\n",
            "Requirement already satisfied: nvidia-cuda-runtime-cu12==12.1.105 in /usr/local/lib/python3.10/dist-packages (from torch>=1.10.0->accelerate) (12.1.105)\n",
            "Requirement already satisfied: nvidia-cuda-cupti-cu12==12.1.105 in /usr/local/lib/python3.10/dist-packages (from torch>=1.10.0->accelerate) (12.1.105)\n",
            "Requirement already satisfied: nvidia-cudnn-cu12==8.9.2.26 in /usr/local/lib/python3.10/dist-packages (from torch>=1.10.0->accelerate) (8.9.2.26)\n",
            "Requirement already satisfied: nvidia-cublas-cu12==12.1.3.1 in /usr/local/lib/python3.10/dist-packages (from torch>=1.10.0->accelerate) (12.1.3.1)\n",
            "Requirement already satisfied: nvidia-cufft-cu12==11.0.2.54 in /usr/local/lib/python3.10/dist-packages (from torch>=1.10.0->accelerate) (11.0.2.54)\n",
            "Requirement already satisfied: nvidia-curand-cu12==10.3.2.106 in /usr/local/lib/python3.10/dist-packages (from torch>=1.10.0->accelerate) (10.3.2.106)\n",
            "Requirement already satisfied: nvidia-cusolver-cu12==11.4.5.107 in /usr/local/lib/python3.10/dist-packages (from torch>=1.10.0->accelerate) (11.4.5.107)\n",
            "Requirement already satisfied: nvidia-cusparse-cu12==12.1.0.106 in /usr/local/lib/python3.10/dist-packages (from torch>=1.10.0->accelerate) (12.1.0.106)\n",
            "Requirement already satisfied: nvidia-nccl-cu12==2.19.3 in /usr/local/lib/python3.10/dist-packages (from torch>=1.10.0->accelerate) (2.19.3)\n",
            "Requirement already satisfied: nvidia-nvtx-cu12==12.1.105 in /usr/local/lib/python3.10/dist-packages (from torch>=1.10.0->accelerate) (12.1.105)\n",
            "Requirement already satisfied: triton==2.2.0 in /usr/local/lib/python3.10/dist-packages (from torch>=1.10.0->accelerate) (2.2.0)\n",
            "Requirement already satisfied: nvidia-nvjitlink-cu12 in /usr/local/lib/python3.10/dist-packages (from nvidia-cusolver-cu12==11.4.5.107->torch>=1.10.0->accelerate) (12.4.127)\n",
            "Requirement already satisfied: requests in /usr/local/lib/python3.10/dist-packages (from huggingface-hub->accelerate) (2.31.0)\n",
            "Requirement already satisfied: tqdm>=4.42.1 in /usr/local/lib/python3.10/dist-packages (from huggingface-hub->accelerate) (4.66.2)\n",
            "Requirement already satisfied: MarkupSafe>=2.0 in /usr/local/lib/python3.10/dist-packages (from jinja2->torch>=1.10.0->accelerate) (2.1.5)\n",
            "Requirement already satisfied: charset-normalizer<4,>=2 in /usr/local/lib/python3.10/dist-packages (from requests->huggingface-hub->accelerate) (3.3.2)\n",
            "Requirement already satisfied: idna<4,>=2.5 in /usr/local/lib/python3.10/dist-packages (from requests->huggingface-hub->accelerate) (3.6)\n",
            "Requirement already satisfied: urllib3<3,>=1.21.1 in /usr/local/lib/python3.10/dist-packages (from requests->huggingface-hub->accelerate) (2.0.7)\n",
            "Requirement already satisfied: certifi>=2017.4.17 in /usr/local/lib/python3.10/dist-packages (from requests->huggingface-hub->accelerate) (2024.2.2)\n",
            "Requirement already satisfied: mpmath>=0.19 in /usr/local/lib/python3.10/dist-packages (from sympy->torch>=1.10.0->accelerate) (1.3.0)\n",
            "Collecting evaluate\n",
            "  Downloading evaluate-0.4.1-py3-none-any.whl (84 kB)\n",
            "\u001b[2K     \u001b[90m━━━━━━━━━━━━━━━━━━━━━━━━━━━━━━━━━━━━━━━━\u001b[0m \u001b[32m84.1/84.1 kB\u001b[0m \u001b[31m3.1 MB/s\u001b[0m eta \u001b[36m0:00:00\u001b[0m\n",
            "\u001b[?25hCollecting datasets>=2.0.0 (from evaluate)\n",
            "  Downloading datasets-2.18.0-py3-none-any.whl (510 kB)\n",
            "\u001b[2K     \u001b[90m━━━━━━━━━━━━━━━━━━━━━━━━━━━━━━━━━━━━━━━━\u001b[0m \u001b[32m510.5/510.5 kB\u001b[0m \u001b[31m12.4 MB/s\u001b[0m eta \u001b[36m0:00:00\u001b[0m\n",
            "\u001b[?25hRequirement already satisfied: numpy>=1.17 in /usr/local/lib/python3.10/dist-packages (from evaluate) (1.23.5)\n",
            "Collecting dill (from evaluate)\n",
            "  Downloading dill-0.3.8-py3-none-any.whl (116 kB)\n",
            "\u001b[2K     \u001b[90m━━━━━━━━━━━━━━━━━━━━━━━━━━━━━━━━━━━━━━━━\u001b[0m \u001b[32m116.3/116.3 kB\u001b[0m \u001b[31m13.6 MB/s\u001b[0m eta \u001b[36m0:00:00\u001b[0m\n",
            "\u001b[?25hRequirement already satisfied: pandas in /usr/local/lib/python3.10/dist-packages (from evaluate) (2.0.3)\n",
            "Requirement already satisfied: requests>=2.19.0 in /usr/local/lib/python3.10/dist-packages (from evaluate) (2.31.0)\n",
            "Requirement already satisfied: tqdm>=4.62.1 in /usr/local/lib/python3.10/dist-packages (from evaluate) (4.66.2)\n",
            "Collecting xxhash (from evaluate)\n",
            "  Downloading xxhash-3.4.1-cp310-cp310-manylinux_2_17_x86_64.manylinux2014_x86_64.whl (194 kB)\n",
            "\u001b[2K     \u001b[90m━━━━━━━━━━━━━━━━━━━━━━━━━━━━━━━━━━━━━━━━\u001b[0m \u001b[32m194.1/194.1 kB\u001b[0m \u001b[31m14.9 MB/s\u001b[0m eta \u001b[36m0:00:00\u001b[0m\n",
            "\u001b[?25hCollecting multiprocess (from evaluate)\n",
            "  Downloading multiprocess-0.70.16-py310-none-any.whl (134 kB)\n",
            "\u001b[2K     \u001b[90m━━━━━━━━━━━━━━━━━━━━━━━━━━━━━━━━━━━━━━━━\u001b[0m \u001b[32m134.8/134.8 kB\u001b[0m \u001b[31m15.5 MB/s\u001b[0m eta \u001b[36m0:00:00\u001b[0m\n",
            "\u001b[?25hRequirement already satisfied: fsspec[http]>=2021.05.0 in /usr/local/lib/python3.10/dist-packages (from evaluate) (2023.6.0)\n",
            "Requirement already satisfied: huggingface-hub>=0.7.0 in /usr/local/lib/python3.10/dist-packages (from evaluate) (0.20.3)\n",
            "Requirement already satisfied: packaging in /usr/local/lib/python3.10/dist-packages (from evaluate) (24.0)\n",
            "Collecting responses<0.19 (from evaluate)\n",
            "  Downloading responses-0.18.0-py3-none-any.whl (38 kB)\n",
            "Requirement already satisfied: filelock in /usr/local/lib/python3.10/dist-packages (from datasets>=2.0.0->evaluate) (3.13.4)\n",
            "Requirement already satisfied: pyarrow>=12.0.0 in /usr/local/lib/python3.10/dist-packages (from datasets>=2.0.0->evaluate) (14.0.2)\n",
            "Requirement already satisfied: pyarrow-hotfix in /usr/local/lib/python3.10/dist-packages (from datasets>=2.0.0->evaluate) (0.6)\n",
            "Requirement already satisfied: aiohttp in /usr/local/lib/python3.10/dist-packages (from datasets>=2.0.0->evaluate) (3.9.3)\n",
            "Requirement already satisfied: pyyaml>=5.1 in /usr/local/lib/python3.10/dist-packages (from datasets>=2.0.0->evaluate) (6.0.1)\n",
            "Requirement already satisfied: typing-extensions>=3.7.4.3 in /usr/local/lib/python3.10/dist-packages (from huggingface-hub>=0.7.0->evaluate) (4.11.0)\n",
            "Requirement already satisfied: charset-normalizer<4,>=2 in /usr/local/lib/python3.10/dist-packages (from requests>=2.19.0->evaluate) (3.3.2)\n",
            "Requirement already satisfied: idna<4,>=2.5 in /usr/local/lib/python3.10/dist-packages (from requests>=2.19.0->evaluate) (3.6)\n",
            "Requirement already satisfied: urllib3<3,>=1.21.1 in /usr/local/lib/python3.10/dist-packages (from requests>=2.19.0->evaluate) (2.0.7)\n",
            "Requirement already satisfied: certifi>=2017.4.17 in /usr/local/lib/python3.10/dist-packages (from requests>=2.19.0->evaluate) (2024.2.2)\n",
            "Requirement already satisfied: python-dateutil>=2.8.2 in /usr/local/lib/python3.10/dist-packages (from pandas->evaluate) (2.8.2)\n",
            "Requirement already satisfied: pytz>=2020.1 in /usr/local/lib/python3.10/dist-packages (from pandas->evaluate) (2023.4)\n",
            "Requirement already satisfied: tzdata>=2022.1 in /usr/local/lib/python3.10/dist-packages (from pandas->evaluate) (2024.1)\n",
            "Requirement already satisfied: aiosignal>=1.1.2 in /usr/local/lib/python3.10/dist-packages (from aiohttp->datasets>=2.0.0->evaluate) (1.3.1)\n",
            "Requirement already satisfied: attrs>=17.3.0 in /usr/local/lib/python3.10/dist-packages (from aiohttp->datasets>=2.0.0->evaluate) (23.2.0)\n",
            "Requirement already satisfied: frozenlist>=1.1.1 in /usr/local/lib/python3.10/dist-packages (from aiohttp->datasets>=2.0.0->evaluate) (1.4.1)\n",
            "Requirement already satisfied: multidict<7.0,>=4.5 in /usr/local/lib/python3.10/dist-packages (from aiohttp->datasets>=2.0.0->evaluate) (6.0.5)\n",
            "Requirement already satisfied: yarl<2.0,>=1.0 in /usr/local/lib/python3.10/dist-packages (from aiohttp->datasets>=2.0.0->evaluate) (1.9.4)\n",
            "Requirement already satisfied: async-timeout<5.0,>=4.0 in /usr/local/lib/python3.10/dist-packages (from aiohttp->datasets>=2.0.0->evaluate) (4.0.3)\n",
            "Requirement already satisfied: six>=1.5 in /usr/local/lib/python3.10/dist-packages (from python-dateutil>=2.8.2->pandas->evaluate) (1.16.0)\n",
            "Installing collected packages: xxhash, dill, responses, multiprocess, datasets, evaluate\n",
            "Successfully installed datasets-2.18.0 dill-0.3.8 evaluate-0.4.1 multiprocess-0.70.16 responses-0.18.0 xxhash-3.4.1\n",
            "Collecting contractions\n",
            "  Downloading contractions-0.1.73-py2.py3-none-any.whl (8.7 kB)\n",
            "Collecting textsearch>=0.0.21 (from contractions)\n",
            "  Downloading textsearch-0.0.24-py2.py3-none-any.whl (7.6 kB)\n",
            "Collecting anyascii (from textsearch>=0.0.21->contractions)\n",
            "  Downloading anyascii-0.3.2-py3-none-any.whl (289 kB)\n",
            "\u001b[2K     \u001b[90m━━━━━━━━━━━━━━━━━━━━━━━━━━━━━━━━━━━━━━━━\u001b[0m \u001b[32m289.9/289.9 kB\u001b[0m \u001b[31m9.0 MB/s\u001b[0m eta \u001b[36m0:00:00\u001b[0m\n",
            "\u001b[?25hCollecting pyahocorasick (from textsearch>=0.0.21->contractions)\n",
            "  Downloading pyahocorasick-2.1.0-cp310-cp310-manylinux_2_5_x86_64.manylinux1_x86_64.manylinux_2_12_x86_64.manylinux2010_x86_64.whl (110 kB)\n",
            "\u001b[2K     \u001b[90m━━━━━━━━━━━━━━━━━━━━━━━━━━━━━━━━━━━━━━━━\u001b[0m \u001b[32m110.7/110.7 kB\u001b[0m \u001b[31m17.7 MB/s\u001b[0m eta \u001b[36m0:00:00\u001b[0m\n",
            "\u001b[?25hInstalling collected packages: pyahocorasick, anyascii, textsearch, contractions\n",
            "Successfully installed anyascii-0.3.2 contractions-0.1.73 pyahocorasick-2.1.0 textsearch-0.0.24\n"
          ]
        }
      ],
      "source": [
        "# En caso de problemas, utilizar las dependencias de librerías de este requierement: https://github.com/googlecolab/backend-info/blob/d6d345cb94fc5fd49951c9af0f6ead5e962bfab2/pip-freeze.txt\n",
        "!pip install numpy==1.23.5\n",
        "!pip install transformers[torch]==4.35.2\n",
        "!pip install accelerate -U\n",
        "!pip install evaluate\n",
        "!pip install contractions"
      ]
    },
    {
      "cell_type": "code",
      "execution_count": null,
      "metadata": {
        "id": "pOub-BB9KWh5"
      },
      "outputs": [],
      "source": [
        "import pandas as pd\n",
        "def load_prepare_data(path):\n",
        "  \"\"\"\n",
        "  Función para cargar y procesar datos para el ejercicio.\n",
        "  \"\"\"\n",
        "  df = pd.read_csv(path,sep=\",\")\n",
        "  map_classes = {\n",
        "    \"religion\":1,\n",
        "    \"age\":1,\n",
        "    \"ethnicity\":1,\n",
        "    \"gender\":1,\n",
        "    \"other_cyberbullying\":1,\n",
        "    \"not_cyberbullying\":0,\n",
        "  }\n",
        "  df[\"cyberbullying\"] = df.cyberbullying_type.map(map_classes)\n",
        "  return df[[\"tweet_text\",\"cyberbullying\"]].copy()"
      ]
    },
    {
      "cell_type": "markdown",
      "metadata": {
        "id": "OeczIz9uKyBV"
      },
      "source": [
        "# Ejercicio\n"
      ]
    },
    {
      "cell_type": "markdown",
      "metadata": {
        "id": "I9EFBbmM5w90"
      },
      "source": [
        "En este ejercicio vamos a trabajar con un conjunto de datos procedente de medios sociales online.\n",
        "\n",
        "Uno de los mayores problemas en el internet de hoy en día es la presencia de actitudes negativas hacia algunos colectivos en relación a su etnia, género, religión o ideología política. En este ejercicio trabajaremos con un conjunto de datos reales, etiquetados manualmente, procedentes de la plataforma [Kaggle](https://www.kaggle.com/datasets/andrewmvd/cyberbullying-classification/data). Originalmente, a cada documento del dataset se le asignó una de las siguientes categorías:\n",
        "- *religion*\n",
        "- *age*\n",
        "- *ethnicity*\n",
        "- *gender*\n",
        "- *other_cyberbullying*\n",
        "- *not_cyberbullying*\n",
        "\n",
        "\n",
        "El objetivo inicial del dataset era su uso para entrenar un modelo capaz de detectar el tipo de contenido de odio presente en internet según el colectivo al que se atacaba. En este caso, para simplificar el ejercicio, se ha generado una función `load_prepare_data()` que cambia las categorías del dataset obteníendose al final 2 categorías con valor 1 o 0, indicando si el tweet tiene contenido de odio"
      ]
    },
    {
      "cell_type": "markdown",
      "metadata": {
        "id": "8c1vV6Aogbxu"
      },
      "source": [
        "**En este ejercicio debeis entrenar un modelo de clasificación utilizando la librería Transformers.** Dado que el análisis exploratorio ha sido realizado en el ejercicio anterior, en este caso podréis centraros en entrenar el modelo utilizando la librería Transformers, seleccionando un modelo pre-entrenado adecuado, entrenando el modelo y llevando a cabo la evaluación.\n",
        "\n",
        "\n",
        "**Nota 1**: Este ejercicio requiere el uso de las GPUs de Google Colab. Este Colab debería estar preconfigurado para ejecutarse en GPU, pero si tuviera problemas en la ejecución que me contacte a través del Moodle para buscar soluciones alternativas."
      ]
    },
    {
      "cell_type": "markdown",
      "metadata": {
        "id": "u5dR3XnT7Wl1"
      },
      "source": [
        "## 0. Imports\n"
      ]
    },
    {
      "cell_type": "code",
      "execution_count": null,
      "metadata": {
        "colab": {
          "base_uri": "https://localhost:8080/"
        },
        "id": "fVOCm6Kw7WCW",
        "outputId": "fc4a3d17-c167-4a39-e527-eae9832e77be"
      },
      "outputs": [
        {
          "output_type": "stream",
          "name": "stderr",
          "text": [
            "/usr/local/lib/python3.10/dist-packages/transformers/utils/generic.py:441: UserWarning: torch.utils._pytree._register_pytree_node is deprecated. Please use torch.utils._pytree.register_pytree_node instead.\n",
            "  _torch_pytree._register_pytree_node(\n"
          ]
        }
      ],
      "source": [
        "from transformers import (\n",
        "   AutoConfig,\n",
        "   AutoTokenizer,\n",
        "   AutoModelForSequenceClassification,\n",
        "   AdamW\n",
        ")\n",
        "import torch\n",
        "import pandas as pd\n",
        "from sklearn.model_selection import train_test_split\n",
        "\n",
        "import contractions"
      ]
    },
    {
      "cell_type": "markdown",
      "metadata": {
        "id": "WbiU7iHSKd-9"
      },
      "source": [
        "## 1. Obtención del corpus\n",
        "Para la obtención de los datos teneis disponible la función `load_prepare_data()`. Esta función prepara los datos del ejercicio en formato Pandas dataframe para que podais realizarlo."
      ]
    },
    {
      "cell_type": "code",
      "execution_count": null,
      "metadata": {
        "id": "4kMXGAUdgvKo"
      },
      "outputs": [],
      "source": [
        "path_data = \"https://raw.githubusercontent.com/luisgasco/ntic_master_datos/main/datasets/cyberbullying_tweets.csv\"\n",
        "# Path de datos alternativos en caso de que el anterior no funcione (al estar alojado en github puede haber limitaciones\n",
        "# en la descarga.\n",
        "# path_data = \"https://zenodo.org/records/10938455/files/cyberbullying_tweets.csv?download=1\"\n",
        "dataset = load_prepare_data(path_data)"
      ]
    },
    {
      "cell_type": "code",
      "execution_count": null,
      "metadata": {
        "colab": {
          "base_uri": "https://localhost:8080/",
          "height": 174
        },
        "id": "6dXS2-2JgvKo",
        "outputId": "385a0ff9-7cf7-43f2-926b-7a1dbc774ef4"
      },
      "outputs": [
        {
          "output_type": "execute_result",
          "data": {
            "text/plain": [
              "                                          tweet_text  cyberbullying\n",
              "0  In other words #katandandre, your food was cra...              0\n",
              "1  Why is #aussietv so white? #MKR #theblock #ImA...              0\n",
              "2  @XochitlSuckkks a classy whore? Or more red ve...              0\n",
              "3  @Jason_Gio meh. :P  thanks for the heads up, b...              0"
            ],
            "text/html": [
              "\n",
              "  <div id=\"df-3673e05e-8352-47ac-a415-8e4c0b9599be\" class=\"colab-df-container\">\n",
              "    <div>\n",
              "<style scoped>\n",
              "    .dataframe tbody tr th:only-of-type {\n",
              "        vertical-align: middle;\n",
              "    }\n",
              "\n",
              "    .dataframe tbody tr th {\n",
              "        vertical-align: top;\n",
              "    }\n",
              "\n",
              "    .dataframe thead th {\n",
              "        text-align: right;\n",
              "    }\n",
              "</style>\n",
              "<table border=\"1\" class=\"dataframe\">\n",
              "  <thead>\n",
              "    <tr style=\"text-align: right;\">\n",
              "      <th></th>\n",
              "      <th>tweet_text</th>\n",
              "      <th>cyberbullying</th>\n",
              "    </tr>\n",
              "  </thead>\n",
              "  <tbody>\n",
              "    <tr>\n",
              "      <th>0</th>\n",
              "      <td>In other words #katandandre, your food was cra...</td>\n",
              "      <td>0</td>\n",
              "    </tr>\n",
              "    <tr>\n",
              "      <th>1</th>\n",
              "      <td>Why is #aussietv so white? #MKR #theblock #ImA...</td>\n",
              "      <td>0</td>\n",
              "    </tr>\n",
              "    <tr>\n",
              "      <th>2</th>\n",
              "      <td>@XochitlSuckkks a classy whore? Or more red ve...</td>\n",
              "      <td>0</td>\n",
              "    </tr>\n",
              "    <tr>\n",
              "      <th>3</th>\n",
              "      <td>@Jason_Gio meh. :P  thanks for the heads up, b...</td>\n",
              "      <td>0</td>\n",
              "    </tr>\n",
              "  </tbody>\n",
              "</table>\n",
              "</div>\n",
              "    <div class=\"colab-df-buttons\">\n",
              "\n",
              "  <div class=\"colab-df-container\">\n",
              "    <button class=\"colab-df-convert\" onclick=\"convertToInteractive('df-3673e05e-8352-47ac-a415-8e4c0b9599be')\"\n",
              "            title=\"Convert this dataframe to an interactive table.\"\n",
              "            style=\"display:none;\">\n",
              "\n",
              "  <svg xmlns=\"http://www.w3.org/2000/svg\" height=\"24px\" viewBox=\"0 -960 960 960\">\n",
              "    <path d=\"M120-120v-720h720v720H120Zm60-500h600v-160H180v160Zm220 220h160v-160H400v160Zm0 220h160v-160H400v160ZM180-400h160v-160H180v160Zm440 0h160v-160H620v160ZM180-180h160v-160H180v160Zm440 0h160v-160H620v160Z\"/>\n",
              "  </svg>\n",
              "    </button>\n",
              "\n",
              "  <style>\n",
              "    .colab-df-container {\n",
              "      display:flex;\n",
              "      gap: 12px;\n",
              "    }\n",
              "\n",
              "    .colab-df-convert {\n",
              "      background-color: #E8F0FE;\n",
              "      border: none;\n",
              "      border-radius: 50%;\n",
              "      cursor: pointer;\n",
              "      display: none;\n",
              "      fill: #1967D2;\n",
              "      height: 32px;\n",
              "      padding: 0 0 0 0;\n",
              "      width: 32px;\n",
              "    }\n",
              "\n",
              "    .colab-df-convert:hover {\n",
              "      background-color: #E2EBFA;\n",
              "      box-shadow: 0px 1px 2px rgba(60, 64, 67, 0.3), 0px 1px 3px 1px rgba(60, 64, 67, 0.15);\n",
              "      fill: #174EA6;\n",
              "    }\n",
              "\n",
              "    .colab-df-buttons div {\n",
              "      margin-bottom: 4px;\n",
              "    }\n",
              "\n",
              "    [theme=dark] .colab-df-convert {\n",
              "      background-color: #3B4455;\n",
              "      fill: #D2E3FC;\n",
              "    }\n",
              "\n",
              "    [theme=dark] .colab-df-convert:hover {\n",
              "      background-color: #434B5C;\n",
              "      box-shadow: 0px 1px 3px 1px rgba(0, 0, 0, 0.15);\n",
              "      filter: drop-shadow(0px 1px 2px rgba(0, 0, 0, 0.3));\n",
              "      fill: #FFFFFF;\n",
              "    }\n",
              "  </style>\n",
              "\n",
              "    <script>\n",
              "      const buttonEl =\n",
              "        document.querySelector('#df-3673e05e-8352-47ac-a415-8e4c0b9599be button.colab-df-convert');\n",
              "      buttonEl.style.display =\n",
              "        google.colab.kernel.accessAllowed ? 'block' : 'none';\n",
              "\n",
              "      async function convertToInteractive(key) {\n",
              "        const element = document.querySelector('#df-3673e05e-8352-47ac-a415-8e4c0b9599be');\n",
              "        const dataTable =\n",
              "          await google.colab.kernel.invokeFunction('convertToInteractive',\n",
              "                                                    [key], {});\n",
              "        if (!dataTable) return;\n",
              "\n",
              "        const docLinkHtml = 'Like what you see? Visit the ' +\n",
              "          '<a target=\"_blank\" href=https://colab.research.google.com/notebooks/data_table.ipynb>data table notebook</a>'\n",
              "          + ' to learn more about interactive tables.';\n",
              "        element.innerHTML = '';\n",
              "        dataTable['output_type'] = 'display_data';\n",
              "        await google.colab.output.renderOutput(dataTable, element);\n",
              "        const docLink = document.createElement('div');\n",
              "        docLink.innerHTML = docLinkHtml;\n",
              "        element.appendChild(docLink);\n",
              "      }\n",
              "    </script>\n",
              "  </div>\n",
              "\n",
              "\n",
              "<div id=\"df-dcc296ff-98ec-4ca4-bbd5-b43826f73174\">\n",
              "  <button class=\"colab-df-quickchart\" onclick=\"quickchart('df-dcc296ff-98ec-4ca4-bbd5-b43826f73174')\"\n",
              "            title=\"Suggest charts\"\n",
              "            style=\"display:none;\">\n",
              "\n",
              "<svg xmlns=\"http://www.w3.org/2000/svg\" height=\"24px\"viewBox=\"0 0 24 24\"\n",
              "     width=\"24px\">\n",
              "    <g>\n",
              "        <path d=\"M19 3H5c-1.1 0-2 .9-2 2v14c0 1.1.9 2 2 2h14c1.1 0 2-.9 2-2V5c0-1.1-.9-2-2-2zM9 17H7v-7h2v7zm4 0h-2V7h2v10zm4 0h-2v-4h2v4z\"/>\n",
              "    </g>\n",
              "</svg>\n",
              "  </button>\n",
              "\n",
              "<style>\n",
              "  .colab-df-quickchart {\n",
              "      --bg-color: #E8F0FE;\n",
              "      --fill-color: #1967D2;\n",
              "      --hover-bg-color: #E2EBFA;\n",
              "      --hover-fill-color: #174EA6;\n",
              "      --disabled-fill-color: #AAA;\n",
              "      --disabled-bg-color: #DDD;\n",
              "  }\n",
              "\n",
              "  [theme=dark] .colab-df-quickchart {\n",
              "      --bg-color: #3B4455;\n",
              "      --fill-color: #D2E3FC;\n",
              "      --hover-bg-color: #434B5C;\n",
              "      --hover-fill-color: #FFFFFF;\n",
              "      --disabled-bg-color: #3B4455;\n",
              "      --disabled-fill-color: #666;\n",
              "  }\n",
              "\n",
              "  .colab-df-quickchart {\n",
              "    background-color: var(--bg-color);\n",
              "    border: none;\n",
              "    border-radius: 50%;\n",
              "    cursor: pointer;\n",
              "    display: none;\n",
              "    fill: var(--fill-color);\n",
              "    height: 32px;\n",
              "    padding: 0;\n",
              "    width: 32px;\n",
              "  }\n",
              "\n",
              "  .colab-df-quickchart:hover {\n",
              "    background-color: var(--hover-bg-color);\n",
              "    box-shadow: 0 1px 2px rgba(60, 64, 67, 0.3), 0 1px 3px 1px rgba(60, 64, 67, 0.15);\n",
              "    fill: var(--button-hover-fill-color);\n",
              "  }\n",
              "\n",
              "  .colab-df-quickchart-complete:disabled,\n",
              "  .colab-df-quickchart-complete:disabled:hover {\n",
              "    background-color: var(--disabled-bg-color);\n",
              "    fill: var(--disabled-fill-color);\n",
              "    box-shadow: none;\n",
              "  }\n",
              "\n",
              "  .colab-df-spinner {\n",
              "    border: 2px solid var(--fill-color);\n",
              "    border-color: transparent;\n",
              "    border-bottom-color: var(--fill-color);\n",
              "    animation:\n",
              "      spin 1s steps(1) infinite;\n",
              "  }\n",
              "\n",
              "  @keyframes spin {\n",
              "    0% {\n",
              "      border-color: transparent;\n",
              "      border-bottom-color: var(--fill-color);\n",
              "      border-left-color: var(--fill-color);\n",
              "    }\n",
              "    20% {\n",
              "      border-color: transparent;\n",
              "      border-left-color: var(--fill-color);\n",
              "      border-top-color: var(--fill-color);\n",
              "    }\n",
              "    30% {\n",
              "      border-color: transparent;\n",
              "      border-left-color: var(--fill-color);\n",
              "      border-top-color: var(--fill-color);\n",
              "      border-right-color: var(--fill-color);\n",
              "    }\n",
              "    40% {\n",
              "      border-color: transparent;\n",
              "      border-right-color: var(--fill-color);\n",
              "      border-top-color: var(--fill-color);\n",
              "    }\n",
              "    60% {\n",
              "      border-color: transparent;\n",
              "      border-right-color: var(--fill-color);\n",
              "    }\n",
              "    80% {\n",
              "      border-color: transparent;\n",
              "      border-right-color: var(--fill-color);\n",
              "      border-bottom-color: var(--fill-color);\n",
              "    }\n",
              "    90% {\n",
              "      border-color: transparent;\n",
              "      border-bottom-color: var(--fill-color);\n",
              "    }\n",
              "  }\n",
              "</style>\n",
              "\n",
              "  <script>\n",
              "    async function quickchart(key) {\n",
              "      const quickchartButtonEl =\n",
              "        document.querySelector('#' + key + ' button');\n",
              "      quickchartButtonEl.disabled = true;  // To prevent multiple clicks.\n",
              "      quickchartButtonEl.classList.add('colab-df-spinner');\n",
              "      try {\n",
              "        const charts = await google.colab.kernel.invokeFunction(\n",
              "            'suggestCharts', [key], {});\n",
              "      } catch (error) {\n",
              "        console.error('Error during call to suggestCharts:', error);\n",
              "      }\n",
              "      quickchartButtonEl.classList.remove('colab-df-spinner');\n",
              "      quickchartButtonEl.classList.add('colab-df-quickchart-complete');\n",
              "    }\n",
              "    (() => {\n",
              "      let quickchartButtonEl =\n",
              "        document.querySelector('#df-dcc296ff-98ec-4ca4-bbd5-b43826f73174 button');\n",
              "      quickchartButtonEl.style.display =\n",
              "        google.colab.kernel.accessAllowed ? 'block' : 'none';\n",
              "    })();\n",
              "  </script>\n",
              "</div>\n",
              "    </div>\n",
              "  </div>\n"
            ],
            "application/vnd.google.colaboratory.intrinsic+json": {
              "type": "dataframe",
              "variable_name": "dataset",
              "summary": "{\n  \"name\": \"dataset\",\n  \"rows\": 47692,\n  \"fields\": [\n    {\n      \"column\": \"tweet_text\",\n      \"properties\": {\n        \"dtype\": \"string\",\n        \"num_unique_values\": 46017,\n        \"samples\": [\n          \"@AndyEaston85 Love how we are teaching the Bullshitters a lesson in football. Miss Bully and his message board posts.\",\n          \"GYUK | Anti-feminist YouTuber doubles down on vile Jess Phillips rape joke while leaping to the defence ...: In a video uploaded Thursday (April 23), former UKIP candidate Benjamin jumped to the defence of retired gay porn actor turned men's rights\\u2026 http://dlvr.it/RVRS8h\",\n          \"@Truth_Haqq Islam declared war on all mankind 1400 years ago. Now we return the favor. http://t.co/av4B4yCQzY\"\n        ],\n        \"semantic_type\": \"\",\n        \"description\": \"\"\n      }\n    },\n    {\n      \"column\": \"cyberbullying\",\n      \"properties\": {\n        \"dtype\": \"number\",\n        \"std\": 0,\n        \"min\": 0,\n        \"max\": 1,\n        \"num_unique_values\": 2,\n        \"samples\": [\n          1,\n          0\n        ],\n        \"semantic_type\": \"\",\n        \"description\": \"\"\n      }\n    }\n  ]\n}"
            }
          },
          "metadata": {},
          "execution_count": 5
        }
      ],
      "source": [
        "dataset.head(4)"
      ]
    },
    {
      "cell_type": "markdown",
      "metadata": {
        "id": "jJoVvfp77ZeF"
      },
      "source": [
        "## 2. Análisis exploratorio"
      ]
    },
    {
      "cell_type": "markdown",
      "metadata": {
        "id": "NUmXuDMmhtoS"
      },
      "source": [
        "Podéis saltarlo en este ejercicio."
      ]
    },
    {
      "cell_type": "code",
      "execution_count": null,
      "metadata": {
        "id": "fUAOq0jFZ7cA"
      },
      "outputs": [],
      "source": []
    },
    {
      "cell_type": "markdown",
      "metadata": {
        "id": "9wseifFy7b4-"
      },
      "source": [
        "## 3. Preprocesado y Normalización"
      ]
    },
    {
      "cell_type": "markdown",
      "source": [
        "Para el pre procesado y normalización, utilizaremos la funcion del primer ejercicio, esta nos permitirá eliminar espacios adicionales, transformar a minúsculas, y transformar la contracciones de palabras."
      ],
      "metadata": {
        "id": "33VKykhQxfj7"
      }
    },
    {
      "cell_type": "code",
      "source": [
        "def normalizar(text):\n",
        "    # Limpiar textos/tweets\n",
        "    text = \" \".join(text.split())\n",
        "    text = text.lower()\n",
        "    text = contractions.fix(text, slang=True)\n",
        "\n",
        "    return text"
      ],
      "metadata": {
        "id": "qygSeHBsxe65"
      },
      "execution_count": null,
      "outputs": []
    },
    {
      "cell_type": "markdown",
      "source": [
        "Prueba de funcionamiento de la formula normaliza con el tweet text #18"
      ],
      "metadata": {
        "id": "7i1HsKyl79nO"
      }
    },
    {
      "cell_type": "code",
      "source": [
        "dataset[\"tweet_text\"][18] #prueba de funcionamiento"
      ],
      "metadata": {
        "colab": {
          "base_uri": "https://localhost:8080/",
          "height": 52
        },
        "id": "lrhk5fdey9QS",
        "outputId": "546deb10-8e19-4313-f629-35bf9e2d7504"
      },
      "execution_count": null,
      "outputs": [
        {
          "output_type": "execute_result",
          "data": {
            "text/plain": [
              "\"Best pick up line? Hi, you're cute... ?: I love how people call James Potter is a bully. - mypatronusisyou: http://tumblr.com/xol3xl14zy\""
            ],
            "application/vnd.google.colaboratory.intrinsic+json": {
              "type": "string"
            }
          },
          "metadata": {},
          "execution_count": 7
        }
      ]
    },
    {
      "cell_type": "code",
      "source": [
        "normalizar(dataset[\"tweet_text\"][18])"
      ],
      "metadata": {
        "colab": {
          "base_uri": "https://localhost:8080/",
          "height": 52
        },
        "id": "cRkqHcwpz3WH",
        "outputId": "be405c5b-fecb-4f28-bb02-05c57cff07a8"
      },
      "execution_count": null,
      "outputs": [
        {
          "output_type": "execute_result",
          "data": {
            "text/plain": [
              "'best pick up line? hi, you are cute... ?: i love how people call james potter is a bully. - mypatronusisyou: http://tumblr.com/xol3xl14zy'"
            ],
            "application/vnd.google.colaboratory.intrinsic+json": {
              "type": "string"
            }
          },
          "metadata": {},
          "execution_count": 8
        }
      ]
    },
    {
      "cell_type": "markdown",
      "source": [
        "Procesamos todas las filas con la formula normalizar"
      ],
      "metadata": {
        "id": "QFQHFrSr8MUs"
      }
    },
    {
      "cell_type": "code",
      "source": [
        "dataset[\"normalized\"] = dataset[\"tweet_text\"].apply(lambda x: normalizar(x))"
      ],
      "metadata": {
        "id": "NE4QlhDKyRZc"
      },
      "execution_count": null,
      "outputs": []
    },
    {
      "cell_type": "code",
      "source": [
        "dataset.head(5)"
      ],
      "metadata": {
        "colab": {
          "base_uri": "https://localhost:8080/",
          "height": 293
        },
        "id": "sKy6rcSxygkv",
        "outputId": "3ace4d16-0863-4433-a5de-33b0ca4e0171"
      },
      "execution_count": null,
      "outputs": [
        {
          "output_type": "execute_result",
          "data": {
            "text/plain": [
              "                                          tweet_text  cyberbullying  \\\n",
              "0  In other words #katandandre, your food was cra...              0   \n",
              "1  Why is #aussietv so white? #MKR #theblock #ImA...              0   \n",
              "2  @XochitlSuckkks a classy whore? Or more red ve...              0   \n",
              "3  @Jason_Gio meh. :P  thanks for the heads up, b...              0   \n",
              "4  @RudhoeEnglish This is an ISIS account pretend...              0   \n",
              "\n",
              "                                          normalized  \n",
              "0  in other words #katandandre, your food was cra...  \n",
              "1  why is #aussietv so white? #mkr #theblock #ima...  \n",
              "2  @xochitlsuckkks a classy whore? or more red ve...  \n",
              "3  @jason_gio meh. :p thanks for the heads up, bu...  \n",
              "4  @rudhoeenglish this is an isis account pretend...  "
            ],
            "text/html": [
              "\n",
              "  <div id=\"df-34a9dd67-3ed9-40a4-b4ca-f47b6d08e11e\" class=\"colab-df-container\">\n",
              "    <div>\n",
              "<style scoped>\n",
              "    .dataframe tbody tr th:only-of-type {\n",
              "        vertical-align: middle;\n",
              "    }\n",
              "\n",
              "    .dataframe tbody tr th {\n",
              "        vertical-align: top;\n",
              "    }\n",
              "\n",
              "    .dataframe thead th {\n",
              "        text-align: right;\n",
              "    }\n",
              "</style>\n",
              "<table border=\"1\" class=\"dataframe\">\n",
              "  <thead>\n",
              "    <tr style=\"text-align: right;\">\n",
              "      <th></th>\n",
              "      <th>tweet_text</th>\n",
              "      <th>cyberbullying</th>\n",
              "      <th>normalized</th>\n",
              "    </tr>\n",
              "  </thead>\n",
              "  <tbody>\n",
              "    <tr>\n",
              "      <th>0</th>\n",
              "      <td>In other words #katandandre, your food was cra...</td>\n",
              "      <td>0</td>\n",
              "      <td>in other words #katandandre, your food was cra...</td>\n",
              "    </tr>\n",
              "    <tr>\n",
              "      <th>1</th>\n",
              "      <td>Why is #aussietv so white? #MKR #theblock #ImA...</td>\n",
              "      <td>0</td>\n",
              "      <td>why is #aussietv so white? #mkr #theblock #ima...</td>\n",
              "    </tr>\n",
              "    <tr>\n",
              "      <th>2</th>\n",
              "      <td>@XochitlSuckkks a classy whore? Or more red ve...</td>\n",
              "      <td>0</td>\n",
              "      <td>@xochitlsuckkks a classy whore? or more red ve...</td>\n",
              "    </tr>\n",
              "    <tr>\n",
              "      <th>3</th>\n",
              "      <td>@Jason_Gio meh. :P  thanks for the heads up, b...</td>\n",
              "      <td>0</td>\n",
              "      <td>@jason_gio meh. :p thanks for the heads up, bu...</td>\n",
              "    </tr>\n",
              "    <tr>\n",
              "      <th>4</th>\n",
              "      <td>@RudhoeEnglish This is an ISIS account pretend...</td>\n",
              "      <td>0</td>\n",
              "      <td>@rudhoeenglish this is an isis account pretend...</td>\n",
              "    </tr>\n",
              "  </tbody>\n",
              "</table>\n",
              "</div>\n",
              "    <div class=\"colab-df-buttons\">\n",
              "\n",
              "  <div class=\"colab-df-container\">\n",
              "    <button class=\"colab-df-convert\" onclick=\"convertToInteractive('df-34a9dd67-3ed9-40a4-b4ca-f47b6d08e11e')\"\n",
              "            title=\"Convert this dataframe to an interactive table.\"\n",
              "            style=\"display:none;\">\n",
              "\n",
              "  <svg xmlns=\"http://www.w3.org/2000/svg\" height=\"24px\" viewBox=\"0 -960 960 960\">\n",
              "    <path d=\"M120-120v-720h720v720H120Zm60-500h600v-160H180v160Zm220 220h160v-160H400v160Zm0 220h160v-160H400v160ZM180-400h160v-160H180v160Zm440 0h160v-160H620v160ZM180-180h160v-160H180v160Zm440 0h160v-160H620v160Z\"/>\n",
              "  </svg>\n",
              "    </button>\n",
              "\n",
              "  <style>\n",
              "    .colab-df-container {\n",
              "      display:flex;\n",
              "      gap: 12px;\n",
              "    }\n",
              "\n",
              "    .colab-df-convert {\n",
              "      background-color: #E8F0FE;\n",
              "      border: none;\n",
              "      border-radius: 50%;\n",
              "      cursor: pointer;\n",
              "      display: none;\n",
              "      fill: #1967D2;\n",
              "      height: 32px;\n",
              "      padding: 0 0 0 0;\n",
              "      width: 32px;\n",
              "    }\n",
              "\n",
              "    .colab-df-convert:hover {\n",
              "      background-color: #E2EBFA;\n",
              "      box-shadow: 0px 1px 2px rgba(60, 64, 67, 0.3), 0px 1px 3px 1px rgba(60, 64, 67, 0.15);\n",
              "      fill: #174EA6;\n",
              "    }\n",
              "\n",
              "    .colab-df-buttons div {\n",
              "      margin-bottom: 4px;\n",
              "    }\n",
              "\n",
              "    [theme=dark] .colab-df-convert {\n",
              "      background-color: #3B4455;\n",
              "      fill: #D2E3FC;\n",
              "    }\n",
              "\n",
              "    [theme=dark] .colab-df-convert:hover {\n",
              "      background-color: #434B5C;\n",
              "      box-shadow: 0px 1px 3px 1px rgba(0, 0, 0, 0.15);\n",
              "      filter: drop-shadow(0px 1px 2px rgba(0, 0, 0, 0.3));\n",
              "      fill: #FFFFFF;\n",
              "    }\n",
              "  </style>\n",
              "\n",
              "    <script>\n",
              "      const buttonEl =\n",
              "        document.querySelector('#df-34a9dd67-3ed9-40a4-b4ca-f47b6d08e11e button.colab-df-convert');\n",
              "      buttonEl.style.display =\n",
              "        google.colab.kernel.accessAllowed ? 'block' : 'none';\n",
              "\n",
              "      async function convertToInteractive(key) {\n",
              "        const element = document.querySelector('#df-34a9dd67-3ed9-40a4-b4ca-f47b6d08e11e');\n",
              "        const dataTable =\n",
              "          await google.colab.kernel.invokeFunction('convertToInteractive',\n",
              "                                                    [key], {});\n",
              "        if (!dataTable) return;\n",
              "\n",
              "        const docLinkHtml = 'Like what you see? Visit the ' +\n",
              "          '<a target=\"_blank\" href=https://colab.research.google.com/notebooks/data_table.ipynb>data table notebook</a>'\n",
              "          + ' to learn more about interactive tables.';\n",
              "        element.innerHTML = '';\n",
              "        dataTable['output_type'] = 'display_data';\n",
              "        await google.colab.output.renderOutput(dataTable, element);\n",
              "        const docLink = document.createElement('div');\n",
              "        docLink.innerHTML = docLinkHtml;\n",
              "        element.appendChild(docLink);\n",
              "      }\n",
              "    </script>\n",
              "  </div>\n",
              "\n",
              "\n",
              "<div id=\"df-5ebe17cc-5a60-46fc-a30f-0f5cc3130de9\">\n",
              "  <button class=\"colab-df-quickchart\" onclick=\"quickchart('df-5ebe17cc-5a60-46fc-a30f-0f5cc3130de9')\"\n",
              "            title=\"Suggest charts\"\n",
              "            style=\"display:none;\">\n",
              "\n",
              "<svg xmlns=\"http://www.w3.org/2000/svg\" height=\"24px\"viewBox=\"0 0 24 24\"\n",
              "     width=\"24px\">\n",
              "    <g>\n",
              "        <path d=\"M19 3H5c-1.1 0-2 .9-2 2v14c0 1.1.9 2 2 2h14c1.1 0 2-.9 2-2V5c0-1.1-.9-2-2-2zM9 17H7v-7h2v7zm4 0h-2V7h2v10zm4 0h-2v-4h2v4z\"/>\n",
              "    </g>\n",
              "</svg>\n",
              "  </button>\n",
              "\n",
              "<style>\n",
              "  .colab-df-quickchart {\n",
              "      --bg-color: #E8F0FE;\n",
              "      --fill-color: #1967D2;\n",
              "      --hover-bg-color: #E2EBFA;\n",
              "      --hover-fill-color: #174EA6;\n",
              "      --disabled-fill-color: #AAA;\n",
              "      --disabled-bg-color: #DDD;\n",
              "  }\n",
              "\n",
              "  [theme=dark] .colab-df-quickchart {\n",
              "      --bg-color: #3B4455;\n",
              "      --fill-color: #D2E3FC;\n",
              "      --hover-bg-color: #434B5C;\n",
              "      --hover-fill-color: #FFFFFF;\n",
              "      --disabled-bg-color: #3B4455;\n",
              "      --disabled-fill-color: #666;\n",
              "  }\n",
              "\n",
              "  .colab-df-quickchart {\n",
              "    background-color: var(--bg-color);\n",
              "    border: none;\n",
              "    border-radius: 50%;\n",
              "    cursor: pointer;\n",
              "    display: none;\n",
              "    fill: var(--fill-color);\n",
              "    height: 32px;\n",
              "    padding: 0;\n",
              "    width: 32px;\n",
              "  }\n",
              "\n",
              "  .colab-df-quickchart:hover {\n",
              "    background-color: var(--hover-bg-color);\n",
              "    box-shadow: 0 1px 2px rgba(60, 64, 67, 0.3), 0 1px 3px 1px rgba(60, 64, 67, 0.15);\n",
              "    fill: var(--button-hover-fill-color);\n",
              "  }\n",
              "\n",
              "  .colab-df-quickchart-complete:disabled,\n",
              "  .colab-df-quickchart-complete:disabled:hover {\n",
              "    background-color: var(--disabled-bg-color);\n",
              "    fill: var(--disabled-fill-color);\n",
              "    box-shadow: none;\n",
              "  }\n",
              "\n",
              "  .colab-df-spinner {\n",
              "    border: 2px solid var(--fill-color);\n",
              "    border-color: transparent;\n",
              "    border-bottom-color: var(--fill-color);\n",
              "    animation:\n",
              "      spin 1s steps(1) infinite;\n",
              "  }\n",
              "\n",
              "  @keyframes spin {\n",
              "    0% {\n",
              "      border-color: transparent;\n",
              "      border-bottom-color: var(--fill-color);\n",
              "      border-left-color: var(--fill-color);\n",
              "    }\n",
              "    20% {\n",
              "      border-color: transparent;\n",
              "      border-left-color: var(--fill-color);\n",
              "      border-top-color: var(--fill-color);\n",
              "    }\n",
              "    30% {\n",
              "      border-color: transparent;\n",
              "      border-left-color: var(--fill-color);\n",
              "      border-top-color: var(--fill-color);\n",
              "      border-right-color: var(--fill-color);\n",
              "    }\n",
              "    40% {\n",
              "      border-color: transparent;\n",
              "      border-right-color: var(--fill-color);\n",
              "      border-top-color: var(--fill-color);\n",
              "    }\n",
              "    60% {\n",
              "      border-color: transparent;\n",
              "      border-right-color: var(--fill-color);\n",
              "    }\n",
              "    80% {\n",
              "      border-color: transparent;\n",
              "      border-right-color: var(--fill-color);\n",
              "      border-bottom-color: var(--fill-color);\n",
              "    }\n",
              "    90% {\n",
              "      border-color: transparent;\n",
              "      border-bottom-color: var(--fill-color);\n",
              "    }\n",
              "  }\n",
              "</style>\n",
              "\n",
              "  <script>\n",
              "    async function quickchart(key) {\n",
              "      const quickchartButtonEl =\n",
              "        document.querySelector('#' + key + ' button');\n",
              "      quickchartButtonEl.disabled = true;  // To prevent multiple clicks.\n",
              "      quickchartButtonEl.classList.add('colab-df-spinner');\n",
              "      try {\n",
              "        const charts = await google.colab.kernel.invokeFunction(\n",
              "            'suggestCharts', [key], {});\n",
              "      } catch (error) {\n",
              "        console.error('Error during call to suggestCharts:', error);\n",
              "      }\n",
              "      quickchartButtonEl.classList.remove('colab-df-spinner');\n",
              "      quickchartButtonEl.classList.add('colab-df-quickchart-complete');\n",
              "    }\n",
              "    (() => {\n",
              "      let quickchartButtonEl =\n",
              "        document.querySelector('#df-5ebe17cc-5a60-46fc-a30f-0f5cc3130de9 button');\n",
              "      quickchartButtonEl.style.display =\n",
              "        google.colab.kernel.accessAllowed ? 'block' : 'none';\n",
              "    })();\n",
              "  </script>\n",
              "</div>\n",
              "    </div>\n",
              "  </div>\n"
            ],
            "application/vnd.google.colaboratory.intrinsic+json": {
              "type": "dataframe",
              "variable_name": "dataset",
              "summary": "{\n  \"name\": \"dataset\",\n  \"rows\": 47692,\n  \"fields\": [\n    {\n      \"column\": \"tweet_text\",\n      \"properties\": {\n        \"dtype\": \"string\",\n        \"num_unique_values\": 46017,\n        \"samples\": [\n          \"@AndyEaston85 Love how we are teaching the Bullshitters a lesson in football. Miss Bully and his message board posts.\",\n          \"GYUK | Anti-feminist YouTuber doubles down on vile Jess Phillips rape joke while leaping to the defence ...: In a video uploaded Thursday (April 23), former UKIP candidate Benjamin jumped to the defence of retired gay porn actor turned men's rights\\u2026 http://dlvr.it/RVRS8h\",\n          \"@Truth_Haqq Islam declared war on all mankind 1400 years ago. Now we return the favor. http://t.co/av4B4yCQzY\"\n        ],\n        \"semantic_type\": \"\",\n        \"description\": \"\"\n      }\n    },\n    {\n      \"column\": \"cyberbullying\",\n      \"properties\": {\n        \"dtype\": \"number\",\n        \"std\": 0,\n        \"min\": 0,\n        \"max\": 1,\n        \"num_unique_values\": 2,\n        \"samples\": [\n          1,\n          0\n        ],\n        \"semantic_type\": \"\",\n        \"description\": \"\"\n      }\n    },\n    {\n      \"column\": \"normalized\",\n      \"properties\": {\n        \"dtype\": \"string\",\n        \"num_unique_values\": 45985,\n        \"samples\": [\n          \"@joeyxcv: @cwizzyaw: i wish hitler never died, i fucking hate jews and disgusting black niggers\\\" dude, that is too far...\\\" lmao.\",\n          \"rt @smokenmirrors71: @aceofspadeshq same msm that insists islam has no connection w/terror censors cartoons cuz they fear being murdered. s\\u2026\"\n        ],\n        \"semantic_type\": \"\",\n        \"description\": \"\"\n      }\n    }\n  ]\n}"
            }
          },
          "metadata": {},
          "execution_count": 10
        }
      ]
    },
    {
      "cell_type": "markdown",
      "metadata": {
        "id": "5vJkVg9X7cOx"
      },
      "source": [
        "## 4. Vectorización"
      ]
    },
    {
      "cell_type": "markdown",
      "source": [
        "Procedemos a separar nuestras variables predictoras (text) de la target (labels)."
      ],
      "metadata": {
        "id": "ICdCkz0m9d47"
      }
    },
    {
      "cell_type": "code",
      "execution_count": null,
      "metadata": {
        "id": "aac98seT7cBD"
      },
      "outputs": [],
      "source": [
        "texts = dataset.normalized.values  # an array of strings\n",
        "labels = dataset.cyberbullying.values  # an array of integers"
      ]
    },
    {
      "cell_type": "code",
      "source": [
        "train_texts, test_texts, train_labels, test_labels = train_test_split(texts, labels,\n",
        "                                                                      test_size=.25,\n",
        "                                                                      random_state=93,\n",
        "                                                                      stratify = labels)"
      ],
      "metadata": {
        "id": "KNPCXZXI-uet"
      },
      "execution_count": null,
      "outputs": []
    },
    {
      "cell_type": "markdown",
      "source": [
        "Datos para validacion del modelo."
      ],
      "metadata": {
        "id": "Dub1edRH-2LF"
      }
    },
    {
      "cell_type": "code",
      "execution_count": null,
      "metadata": {
        "id": "NOzaphMUdd2A"
      },
      "outputs": [],
      "source": [
        "train_texts, val_texts, train_labels, val_labels = train_test_split(train_texts, train_labels,\n",
        "                                                                    test_size=.2,\n",
        "                                                                    random_state=93,\n",
        "                                                                    stratify = train_labels)"
      ]
    },
    {
      "cell_type": "markdown",
      "source": [
        "Seleccionamos el modelo con el que trabajaremos, en este caso y como se vio en la clase sera el de arquitectura bert. Se intento realizar el modelo con 'large' en vez de 'base' pero tarda mucho a la hora de entrenar."
      ],
      "metadata": {
        "id": "stDVM__P-81F"
      }
    },
    {
      "cell_type": "code",
      "execution_count": null,
      "metadata": {
        "id": "3TG0_Tea7cVz"
      },
      "outputs": [],
      "source": [
        "model_name = 'bert-base-uncased'"
      ]
    },
    {
      "cell_type": "markdown",
      "source": [
        "Para cargar automáticamente el tokenizador del modelo pre-entrenado, en este caso del modelo 'bert-base-uncased, utilizamos la clase 'AutoTokenizer' y el metodo 'from_pretrained'."
      ],
      "metadata": {
        "id": "2N3CM_QoABUN"
      }
    },
    {
      "cell_type": "code",
      "execution_count": null,
      "metadata": {
        "id": "v0c47tvShmik",
        "colab": {
          "base_uri": "https://localhost:8080/",
          "height": 269,
          "referenced_widgets": [
            "648ee178901d466ba27befb971625858",
            "bc5a960e653a4a62963133148f9da3f1",
            "e53af804faec4f53b1d5f983cc88ea1b",
            "8579261cc31c4c23a823cd50ef80772b",
            "8ef37681d44a4a2c8d70b0809b1620a3",
            "752136ba6f0a46c8b19076d6e38ac5ab",
            "9a0c9656b8ab47e2a79a2ea165a3b866",
            "704ad7fb04dc454e93167adf3844c777",
            "9ad2cae5ee01433996680a1fa15170be",
            "41d986f474554f7bb52fce756b444e3c",
            "e83efbae73c94490baa0f6bf15ba85bd",
            "af45ab2c18e943789d54311e9e896e7e",
            "1a9ea4e2bcb14bfbabe7d5164b7c1c8f",
            "6afbf0bcc9314c90859856fa7187b08a",
            "466f2ed23ae843409cec6cf3f75462c7",
            "c9e95bb21d384489be9416759db5f42e",
            "664323d257be46158042dfbde344e96c",
            "d17e521e76cc4a6ba92873866d7c11b5",
            "a16fb0574a2e45e796f1a0e417a17c97",
            "69df57b1c8304931821d3b16632242ed",
            "731d447125f34d918b17645657099e3e",
            "201b66e7a0e2471199289866b64d25fd",
            "553dcb634754466083c0acd7e262706b",
            "05dbdf4c96b34b2f987a66bb4f034ad6",
            "4117d676f51146aabc3dbfbd0abed3dd",
            "cd174ef3077f4322a842cae1cb7d7048",
            "1c3d7935d7dc4442b322a20b8b37b097",
            "45af4cb8c620421c96aea3aca5a99cc1",
            "6d7623a439b34ddc990d35be53a0d972",
            "b97a33df7a944be2a4cbe2cd60998e68",
            "559772f7e13d4c1d9e25a793b136ec03",
            "24e82b21d6964f6eadba66f75dbac642",
            "666480e18b2c442e99b0d5cafbc8e26a",
            "941c6b4992fd4462b7b22289405c4565",
            "f09fd7cef5de4983970e2fc13e9dd5dd",
            "234c0346c666456dac29e3ced434f8a1",
            "f468df2994ac4f7fb7c3c5535d3a25fd",
            "b877d78235684990a995e72a09d008d3",
            "3fdfdff252284a2c886d872ce6ad53f5",
            "7c1ea775aea54158ba198bf106a1fdfb",
            "f91f9af4c4e946758f0d4f5359f1e325",
            "a9f9b4c5df3c48d8abc07e941dc38962",
            "5f8ebb010e4d4d2d8723815b8e915a62",
            "6b915e6c2aac4ed8b2269c79e38c8001"
          ]
        },
        "outputId": "98f9acd4-239a-44e5-f90e-36de1be2f054"
      },
      "outputs": [
        {
          "output_type": "stream",
          "name": "stderr",
          "text": [
            "/usr/local/lib/python3.10/dist-packages/huggingface_hub/utils/_token.py:88: UserWarning: \n",
            "The secret `HF_TOKEN` does not exist in your Colab secrets.\n",
            "To authenticate with the Hugging Face Hub, create a token in your settings tab (https://huggingface.co/settings/tokens), set it as secret in your Google Colab and restart your session.\n",
            "You will be able to reuse this secret in all of your notebooks.\n",
            "Please note that authentication is recommended but still optional to access public models or datasets.\n",
            "  warnings.warn(\n"
          ]
        },
        {
          "output_type": "display_data",
          "data": {
            "text/plain": [
              "tokenizer_config.json:   0%|          | 0.00/48.0 [00:00<?, ?B/s]"
            ],
            "application/vnd.jupyter.widget-view+json": {
              "version_major": 2,
              "version_minor": 0,
              "model_id": "648ee178901d466ba27befb971625858"
            }
          },
          "metadata": {}
        },
        {
          "output_type": "display_data",
          "data": {
            "text/plain": [
              "config.json:   0%|          | 0.00/570 [00:00<?, ?B/s]"
            ],
            "application/vnd.jupyter.widget-view+json": {
              "version_major": 2,
              "version_minor": 0,
              "model_id": "af45ab2c18e943789d54311e9e896e7e"
            }
          },
          "metadata": {}
        },
        {
          "output_type": "display_data",
          "data": {
            "text/plain": [
              "vocab.txt:   0%|          | 0.00/232k [00:00<?, ?B/s]"
            ],
            "application/vnd.jupyter.widget-view+json": {
              "version_major": 2,
              "version_minor": 0,
              "model_id": "553dcb634754466083c0acd7e262706b"
            }
          },
          "metadata": {}
        },
        {
          "output_type": "display_data",
          "data": {
            "text/plain": [
              "tokenizer.json:   0%|          | 0.00/466k [00:00<?, ?B/s]"
            ],
            "application/vnd.jupyter.widget-view+json": {
              "version_major": 2,
              "version_minor": 0,
              "model_id": "941c6b4992fd4462b7b22289405c4565"
            }
          },
          "metadata": {}
        }
      ],
      "source": [
        "tokenizer = AutoTokenizer.from_pretrained(model_name)"
      ]
    },
    {
      "cell_type": "markdown",
      "source": [
        "Realizamos una pequeña comprobación del tokenizador del modelo, lo que nos devuelve es una lista con los tokens incluynedo 2 tokens especiales [CLS] y [SEP]. Ademas podemos observar como se encarga el tequenizador de procesar el texto."
      ],
      "metadata": {
        "id": "YhX5lbdIAyJE"
      }
    },
    {
      "cell_type": "code",
      "execution_count": null,
      "metadata": {
        "colab": {
          "base_uri": "https://localhost:8080/"
        },
        "id": "F_ZrJZ5Qhr6o",
        "outputId": "300af168-78e5-4d84-f3f0-1b16686c44df"
      },
      "outputs": [
        {
          "output_type": "execute_result",
          "data": {
            "text/plain": [
              "['[CLS]',\n",
              " 'best',\n",
              " 'pick',\n",
              " 'up',\n",
              " 'line',\n",
              " '?',\n",
              " 'hi',\n",
              " ',',\n",
              " 'you',\n",
              " 'are',\n",
              " 'cute',\n",
              " '.',\n",
              " '.',\n",
              " '.',\n",
              " '?',\n",
              " ':',\n",
              " 'i',\n",
              " 'love',\n",
              " 'how',\n",
              " 'people',\n",
              " 'call',\n",
              " 'james',\n",
              " 'potter',\n",
              " 'is',\n",
              " 'a',\n",
              " 'bully',\n",
              " '.',\n",
              " '-',\n",
              " 'my',\n",
              " '##pa',\n",
              " '##tron',\n",
              " '##us',\n",
              " '##is',\n",
              " '##you',\n",
              " ':',\n",
              " 'http',\n",
              " ':',\n",
              " '/',\n",
              " '/',\n",
              " 'tu',\n",
              " '##mb',\n",
              " '##lr',\n",
              " '.',\n",
              " 'com',\n",
              " '/',\n",
              " 'x',\n",
              " '##ol',\n",
              " '##3',\n",
              " '##x',\n",
              " '##l',\n",
              " '##14',\n",
              " '##zy',\n",
              " '[SEP]']"
            ]
          },
          "metadata": {},
          "execution_count": 16
        }
      ],
      "source": [
        "texto = dataset[\"normalized\"][18]\n",
        "texto_tokens = tokenizer(texto).tokens()\n",
        "texto_tokens"
      ]
    },
    {
      "cell_type": "markdown",
      "source": [
        "Vectorización del modelo"
      ],
      "metadata": {
        "id": "j6ZxoaMWD09M"
      }
    },
    {
      "cell_type": "code",
      "execution_count": null,
      "metadata": {
        "id": "l0hnCQDCiiWo"
      },
      "outputs": [],
      "source": [
        "import torch\n",
        "from torch.utils.data import Dataset\n",
        "\n",
        "class CustomDataset(Dataset):\n",
        "    def __init__(self, texts, labels, tokenizer, max_length):\n",
        "        \"\"\"\n",
        "        Constructor de la clase CustomDataset.\n",
        "        Parámetros:\n",
        "        - texts: Lista de textos.\n",
        "        - labels: Lista de etiquetas correspondientes a los textos.\n",
        "        - tokenizer: Objeto del tokenizador a utilizar.\n",
        "        - max_length: Longitud máxima de la secuencia después de la tokenización.\n",
        "        \"\"\"\n",
        "        self.texts = texts\n",
        "        self.labels = labels\n",
        "        self.tokenizer = tokenizer\n",
        "        self.max_length = max_length\n",
        "\n",
        "    def __len__(self):\n",
        "        \"\"\"\n",
        "        Devuelve la longitud del conjunto de datos.\n",
        "        \"\"\"\n",
        "        return len(self.texts)\n",
        "\n",
        "    def __getitem__(self, idx):\n",
        "        \"\"\"\n",
        "        Obtiene un elemento del conjunto de datos.\n",
        "\n",
        "        Parámetros:\n",
        "        - idx: Índice del elemento a obtener.\n",
        "\n",
        "        Devuelve:\n",
        "        Un diccionario con 'input_ids', 'attention_mask' y 'labels'.\n",
        "        \"\"\"\n",
        "        # Obtener el texto y la etiqueta del índice proporcionado\n",
        "        text = str(self.texts[idx])\n",
        "        label = int(self.labels[idx])\n",
        "\n",
        "        # Tokenizar el texto\n",
        "        encoding = self.tokenizer(\n",
        "            text,\n",
        "            add_special_tokens=True,\n",
        "            max_length=self.max_length,\n",
        "            truncation=True,\n",
        "            padding='max_length',\n",
        "            return_tensors='pt'\n",
        "        )\n",
        "\n",
        "        # Devolver el diccionario con los datos\n",
        "        return {\n",
        "            'input_ids': encoding['input_ids'].flatten(),\n",
        "            'attention_mask': encoding['attention_mask'].flatten(),\n",
        "            'labels': torch.tensor(label, dtype=torch.long)\n",
        "        }"
      ]
    },
    {
      "cell_type": "code",
      "source": [
        "Parametros que se utilizaran a la hora de"
      ],
      "metadata": {
        "id": "HuNZHAZ-w71R"
      },
      "execution_count": null,
      "outputs": []
    },
    {
      "cell_type": "code",
      "execution_count": null,
      "metadata": {
        "id": "XpqFkpxLipoo"
      },
      "outputs": [],
      "source": [
        "max_length = 150  # Puedes ajustar esto según tus necesidades\n",
        "\n",
        "train_dataset = CustomDataset(train_texts, train_labels, tokenizer, max_length)\n",
        "val_dataset = CustomDataset(val_texts, val_labels, tokenizer, max_length)\n",
        "test_dataset = CustomDataset(test_texts, test_labels, tokenizer, max_length)"
      ]
    },
    {
      "cell_type": "markdown",
      "source": [
        "Estos valores son la cantidad de ejemplos de entrenamiento que se utilizan en una iteración de optimización durante el entrenamiento del modelo. Un tamaño valor puede acelerar el entrenamiento, por lo que lo coloque en 35 ya que es el vlaor que no me daba error en cuanto a la memoria de la GPU."
      ],
      "metadata": {
        "id": "8UgxCUi8xbRr"
      }
    },
    {
      "cell_type": "code",
      "execution_count": null,
      "metadata": {
        "id": "6IZWdKftjXTt"
      },
      "outputs": [],
      "source": [
        "max_seq_length = 150 #@param {type: \"integer\"}\n",
        "train_batch_size = 35 #@param {type: \"integer\"}\n",
        "eval_batch_size = 35 #@param {type: \"integer\"}\n",
        "test_batch_size = 35 #@param {type: \"integer\"}"
      ]
    },
    {
      "cell_type": "markdown",
      "source": [
        "En este codigo se carga el modelo preentrenado para clasificación, con las etiquetas \"NO_cyberbullying\" y \"cyberbullying\"."
      ],
      "metadata": {
        "id": "hZba69XCx3TD"
      }
    },
    {
      "cell_type": "code",
      "execution_count": null,
      "metadata": {
        "id": "LfT6rnpqjXQN",
        "colab": {
          "base_uri": "https://localhost:8080/"
        },
        "outputId": "ab41fa01-b423-4dab-84c9-699c41dfb2f1"
      },
      "outputs": [
        {
          "output_type": "stream",
          "name": "stderr",
          "text": [
            "Some weights of BertForSequenceClassification were not initialized from the model checkpoint at bert-base-uncased and are newly initialized: ['classifier.bias', 'classifier.weight']\n",
            "You should probably TRAIN this model on a down-stream task to be able to use it for predictions and inference.\n"
          ]
        }
      ],
      "source": [
        "from transformers import AutoModelForSequenceClassification, TrainingArguments, Trainer\n",
        "\n",
        "id2label = {0: \"NO_cyberbullying\", 1: \"cyberbullying\"}\n",
        "label2id = {\"NO_cyberbullying\": 0, \"cyberbullying\": 1}\n",
        "model = AutoModelForSequenceClassification.from_pretrained(model_name,  num_labels=2, id2label=id2label, label2id=label2id)"
      ]
    },
    {
      "cell_type": "code",
      "execution_count": null,
      "metadata": {
        "id": "l_2LkIk0lD4H"
      },
      "outputs": [],
      "source": [
        "import accelerate\n",
        "\n",
        "training_args = TrainingArguments(\n",
        "    output_dir=\"modelo_test\",\n",
        "    learning_rate=2e-5,\n",
        "    per_device_train_batch_size=35,\n",
        "    per_device_eval_batch_size=35,\n",
        "    num_train_epochs=2,\n",
        "    weight_decay=0.01,\n",
        "    evaluation_strategy=\"epoch\",\n",
        "    save_strategy=\"epoch\",\n",
        "    load_best_model_at_end=True,\n",
        "    push_to_hub=False\n",
        ")"
      ]
    },
    {
      "cell_type": "code",
      "execution_count": null,
      "metadata": {
        "id": "Is1rhzw_jXJS"
      },
      "outputs": [],
      "source": [
        "import numpy as np\n",
        "import evaluate\n",
        "\n",
        "accuracy = evaluate.load(\"accuracy\")\n",
        "f1_score = evaluate.load(\"f1\")\n",
        "\n",
        "def compute_metrics(eval_pred):\n",
        "    predictions, labels = eval_pred\n",
        "    predictions = np.argmax(predictions, axis=1)\n",
        "    accuracy_value = accuracy.compute(predictions=predictions, references=labels)\n",
        "    f1_score_value = f1_score.compute(predictions=predictions, references=labels)\n",
        "\n",
        "    return {\n",
        "        \"accuracy\": accuracy_value,\n",
        "        \"f1_score\": f1_score_value,\n",
        "    }"
      ]
    },
    {
      "cell_type": "code",
      "execution_count": null,
      "metadata": {
        "colab": {
          "base_uri": "https://localhost:8080/"
        },
        "id": "p_cTGAe3lPE_",
        "outputId": "9ea533b9-643b-409f-b4d0-b5fd11023387"
      },
      "outputs": [
        {
          "output_type": "stream",
          "name": "stderr",
          "text": [
            "/usr/local/lib/python3.10/dist-packages/accelerate/accelerator.py:436: FutureWarning: Passing the following arguments to `Accelerator` is deprecated and will be removed in version 1.0 of Accelerate: dict_keys(['dispatch_batches', 'split_batches']). Please pass an `accelerate.DataLoaderConfiguration` instead: \n",
            "dataloader_config = DataLoaderConfiguration(dispatch_batches=None, split_batches=False)\n",
            "  warnings.warn(\n"
          ]
        }
      ],
      "source": [
        "from accelerate import Accelerator\n",
        "\n",
        "accelerator = Accelerator()\n",
        "\n",
        "trainer = Trainer(\n",
        "    model=model,\n",
        "    args=training_args,\n",
        "    train_dataset=train_dataset,\n",
        "    eval_dataset=val_dataset,\n",
        "    tokenizer=tokenizer,\n",
        "    compute_metrics=compute_metrics,\n",
        ")"
      ]
    },
    {
      "cell_type": "markdown",
      "metadata": {
        "id": "Y1EtZHFx7ij9"
      },
      "source": [
        "## 5. Entrenamiento y evaluación de modelos\n"
      ]
    },
    {
      "cell_type": "markdown",
      "source": [
        "Entrenamos el modelo con unicamente 2 epocas, mas epocas mejora la clasificación pero tarda mucho mas.\n",
        "\n",
        "Lo que obtenemos es un accuracy en la primera epoca de 0.89."
      ],
      "metadata": {
        "id": "ZxNxEidOyIE3"
      }
    },
    {
      "cell_type": "code",
      "execution_count": null,
      "metadata": {
        "colab": {
          "base_uri": "https://localhost:8080/",
          "height": 279
        },
        "id": "rBHDzkvglRQU",
        "outputId": "1ed1439a-f910-45d4-93b6-43a04006ef38"
      },
      "outputs": [
        {
          "output_type": "display_data",
          "data": {
            "text/plain": [
              "<IPython.core.display.HTML object>"
            ],
            "text/html": [
              "\n",
              "    <div>\n",
              "      \n",
              "      <progress value='1636' max='1636' style='width:300px; height:20px; vertical-align: middle;'></progress>\n",
              "      [1636/1636 26:43, Epoch 2/2]\n",
              "    </div>\n",
              "    <table border=\"1\" class=\"dataframe\">\n",
              "  <thead>\n",
              " <tr style=\"text-align: left;\">\n",
              "      <th>Epoch</th>\n",
              "      <th>Training Loss</th>\n",
              "      <th>Validation Loss</th>\n",
              "      <th>Accuracy</th>\n",
              "      <th>F1 Score</th>\n",
              "    </tr>\n",
              "  </thead>\n",
              "  <tbody>\n",
              "    <tr>\n",
              "      <td>1</td>\n",
              "      <td>0.289500</td>\n",
              "      <td>0.239073</td>\n",
              "      <td>{'accuracy': 0.8932065977075762}</td>\n",
              "      <td>{'f1': 0.937987012987013}</td>\n",
              "    </tr>\n",
              "    <tr>\n",
              "      <td>2</td>\n",
              "      <td>0.199600</td>\n",
              "      <td>0.246643</td>\n",
              "      <td>{'accuracy': 0.888034665921163}</td>\n",
              "      <td>{'f1': 0.9341770071493138}</td>\n",
              "    </tr>\n",
              "  </tbody>\n",
              "</table><p>"
            ]
          },
          "metadata": {}
        },
        {
          "output_type": "stream",
          "name": "stderr",
          "text": [
            "Trainer is attempting to log a value of \"{'accuracy': 0.8932065977075762}\" of type <class 'dict'> for key \"eval/accuracy\" as a scalar. This invocation of Tensorboard's writer.add_scalar() is incorrect so we dropped this attribute.\n",
            "Trainer is attempting to log a value of \"{'f1': 0.937987012987013}\" of type <class 'dict'> for key \"eval/f1_score\" as a scalar. This invocation of Tensorboard's writer.add_scalar() is incorrect so we dropped this attribute.\n",
            "Trainer is attempting to log a value of \"{'accuracy': 0.888034665921163}\" of type <class 'dict'> for key \"eval/accuracy\" as a scalar. This invocation of Tensorboard's writer.add_scalar() is incorrect so we dropped this attribute.\n",
            "Trainer is attempting to log a value of \"{'f1': 0.9341770071493138}\" of type <class 'dict'> for key \"eval/f1_score\" as a scalar. This invocation of Tensorboard's writer.add_scalar() is incorrect so we dropped this attribute.\n"
          ]
        },
        {
          "output_type": "execute_result",
          "data": {
            "text/plain": [
              "TrainOutput(global_step=1636, training_loss=0.23509688598893966, metrics={'train_runtime': 1604.2234, 'train_samples_per_second': 35.675, 'train_steps_per_second': 1.02, 'total_flos': 4411478231910000.0, 'train_loss': 0.23509688598893966, 'epoch': 2.0})"
            ]
          },
          "metadata": {},
          "execution_count": 37
        }
      ],
      "source": [
        "trainer.train()"
      ]
    },
    {
      "cell_type": "code",
      "execution_count": null,
      "metadata": {
        "colab": {
          "base_uri": "https://localhost:8080/",
          "height": 213
        },
        "id": "TnITjj81lVIQ",
        "outputId": "2970f852-5997-48d0-ebcb-63bfa4796598"
      },
      "outputs": [
        {
          "output_type": "display_data",
          "data": {
            "text/plain": [
              "<IPython.core.display.HTML object>"
            ],
            "text/html": [
              "\n",
              "    <div>\n",
              "      \n",
              "      <progress value='341' max='341' style='width:300px; height:20px; vertical-align: middle;'></progress>\n",
              "      [341/341 01:55]\n",
              "    </div>\n",
              "    "
            ]
          },
          "metadata": {}
        },
        {
          "output_type": "stream",
          "name": "stderr",
          "text": [
            "Trainer is attempting to log a value of \"{'accuracy': 0.891050910005871}\" of type <class 'dict'> for key \"eval/accuracy\" as a scalar. This invocation of Tensorboard's writer.add_scalar() is incorrect so we dropped this attribute.\n",
            "Trainer is attempting to log a value of \"{'f1': 0.9366743040998392}\" of type <class 'dict'> for key \"eval/f1_score\" as a scalar. This invocation of Tensorboard's writer.add_scalar() is incorrect so we dropped this attribute.\n"
          ]
        },
        {
          "output_type": "execute_result",
          "data": {
            "text/plain": [
              "{'eval_loss': 0.24092242121696472,\n",
              " 'eval_accuracy': {'accuracy': 0.891050910005871},\n",
              " 'eval_f1_score': {'f1': 0.9366743040998392},\n",
              " 'eval_runtime': 115.8408,\n",
              " 'eval_samples_per_second': 102.926,\n",
              " 'eval_steps_per_second': 2.944,\n",
              " 'epoch': 2.0}"
            ]
          },
          "metadata": {},
          "execution_count": 38
        }
      ],
      "source": [
        "# Make predictions on the test data\n",
        "trainer.evaluate(test_dataset)"
      ]
    },
    {
      "cell_type": "code",
      "execution_count": null,
      "metadata": {
        "colab": {
          "base_uri": "https://localhost:8080/",
          "height": 17
        },
        "id": "pVWSeaOn23bL",
        "outputId": "9ae05705-8593-4f1e-eeb6-184a0f7d2e91"
      },
      "outputs": [
        {
          "output_type": "display_data",
          "data": {
            "text/plain": [
              "<IPython.core.display.HTML object>"
            ],
            "text/html": []
          },
          "metadata": {}
        }
      ],
      "source": [
        "# Make predictions on the test data\n",
        "predictions = trainer.predict(test_dataset)"
      ]
    },
    {
      "cell_type": "code",
      "execution_count": null,
      "metadata": {
        "colab": {
          "base_uri": "https://localhost:8080/"
        },
        "id": "izc7UUZZ25MR",
        "outputId": "268ae3f0-1b9d-4273-b5db-95d45955631d"
      },
      "outputs": [
        {
          "output_type": "execute_result",
          "data": {
            "text/plain": [
              "array([-2.887713 ,  3.3366723], dtype=float32)"
            ]
          },
          "metadata": {},
          "execution_count": 40
        }
      ],
      "source": [
        "predictions[0][0]"
      ]
    },
    {
      "cell_type": "code",
      "execution_count": null,
      "metadata": {
        "id": "oDtnSC6325lS"
      },
      "outputs": [],
      "source": [
        "# Access the predicted labels\n",
        "y_pred = predictions.predictions.argmax(axis=1)"
      ]
    },
    {
      "cell_type": "code",
      "execution_count": null,
      "metadata": {
        "id": "6YOBT3Sy28p_"
      },
      "outputs": [],
      "source": [
        "y_true = [x[\"labels\"].item() for x in test_dataset]"
      ]
    },
    {
      "cell_type": "code",
      "execution_count": null,
      "metadata": {
        "colab": {
          "base_uri": "https://localhost:8080/"
        },
        "id": "IxtjIJcC29-Z",
        "outputId": "f371bf6e-80f0-4b68-a986-63d1d72453d4"
      },
      "outputs": [
        {
          "output_type": "stream",
          "name": "stdout",
          "text": [
            "[[1017  969]\n",
            " [ 330 9607]]\n",
            "              precision    recall  f1-score   support\n",
            "\n",
            "           0       0.76      0.51      0.61      1986\n",
            "           1       0.91      0.97      0.94      9937\n",
            "\n",
            "    accuracy                           0.89     11923\n",
            "   macro avg       0.83      0.74      0.77     11923\n",
            "weighted avg       0.88      0.89      0.88     11923\n",
            "\n"
          ]
        }
      ],
      "source": [
        "from sklearn.metrics import classification_report, confusion_matrix\n",
        "print(confusion_matrix(y_true,y_pred))\n",
        "print(classification_report(y_true,y_pred))"
      ]
    },
    {
      "cell_type": "code",
      "source": [
        "from sklearn.metrics import ConfusionMatrixDisplay\n",
        "import matplotlib.pyplot as plt\n",
        "# Crear matriz de confusión\n",
        "cm_display = ConfusionMatrixDisplay(confusion_matrix=confusion_matrix(y_true, y_pred)).plot()\n",
        "\n",
        "# Mostrar la matriz de confusión\n",
        "plt.title('Matriz de Confusión')\n",
        "plt.show()"
      ],
      "metadata": {
        "colab": {
          "base_uri": "https://localhost:8080/",
          "height": 472
        },
        "id": "CJVK5LHEx_qo",
        "outputId": "4092ce95-424e-42fc-c043-f6fff4cb7308"
      },
      "execution_count": null,
      "outputs": [
        {
          "output_type": "display_data",
          "data": {
            "text/plain": [
              "<Figure size 640x480 with 2 Axes>"
            ],
            "image/png": "[encoded data removed]"
          },
          "metadata": {}
        }
      ]
    },
    {
      "cell_type": "markdown",
      "source": [
        "Lo que podemos observar es que las metricas de medicion son muy buenas, tenemos buena clasificacion en general con f1 score de 0.61 (no_cyberbullyng) y 0.94 (bullyng)."
      ],
      "metadata": {
        "id": "1qW_KcYgyy7Y"
      }
    },
    {
      "cell_type": "code",
      "execution_count": null,
      "metadata": {
        "id": "1XPtT_jl3DEN"
      },
      "outputs": [],
      "source": [
        "# Create a function to predict for a single document\n",
        "device = torch.device('cuda' if torch.cuda.is_available() else 'cpu')\n",
        "\n",
        "def predict_single_document(document, max_length=128):\n",
        "    # Tokenize the input document\n",
        "    inputs = tokenizer(document, return_tensors=\"pt\", max_length=max_length, truncation=True)\n",
        "    inputs = {key: value.to(device) for key, value in inputs.items()}  # Move tensors to the same device as the model\n",
        "\n",
        "    # Make the prediction\n",
        "    with torch.no_grad():\n",
        "      model_output = trainer.model(**inputs)\n",
        "\n",
        "    # Access the predicted labels\n",
        "    predicted_label = torch.argmax(model_output.logits).item()\n",
        "\n",
        "    return predicted_label"
      ]
    },
    {
      "cell_type": "code",
      "execution_count": null,
      "metadata": {
        "colab": {
          "base_uri": "https://localhost:8080/"
        },
        "id": "88_tjVw53Ghu",
        "outputId": "d44c8eed-ae0b-4af3-bc83-28a1ed518852"
      },
      "outputs": [
        {
          "output_type": "stream",
          "name": "stdout",
          "text": [
            "Clase texto 1: 0\n",
            "Clase texto 2: 0\n"
          ]
        }
      ],
      "source": [
        "#@markdown >Escribe el texto que quieras clasificar\n",
        "input_text1 = 'Whats wrong with you, you are going to regret doing it'\n",
        "input_text2 = 'I hate being so cute'\n",
        "\n",
        "pred1 = predict_single_document(input_text1)\n",
        "pred2 = predict_single_document(input_text2)\n",
        "\n",
        "# label_mapping = {0:\"no molesto\",1:\"molesto\"}\n",
        "\n",
        "print(\"Clase texto 1: {}\".format(pred1))\n",
        "print(\"Clase texto 2: {}\".format(pred2))"
      ]
    },
    {
      "cell_type": "markdown",
      "source": [
        "# Comparacion de los modelos:\n",
        "\n",
        "Matriz de confusión Modelo de Lenguaje:\n",
        "\n",
        "![Modelo de Lenguaje matriz_confusion.png](data:image/png;base64,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)\n",
        "\n",
        "\n",
        "Matriz de confusión: Random Forest Classifier:\n",
        "\n",
        "![Random Forest matriz_confusion.png](data:image/png;base64,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)\n",
        "\n",
        "### Métricas:\n",
        "\n",
        "- **Accuracy**: Lo que podemos observar es que, el modelo de lenguaje se desempeño mejor realizando una predicción de los valores que, en efecto, eran `True positive` para ambas etiquetas.\n",
        "  \n",
        "  Random Forest Classifier (0.86)\n",
        "\n",
        "  Modelo de Lenguaje (0.89)\n",
        "\n",
        "- **Recall**: Este parametro nos indica que tan bien ha podido el modelo clasificar los verdaderos positivos de todo lo que era positivo. Un recall alto en esta clase significa que el modelo identifica la mayoría de los casos de \"bullying\" reales.\n",
        "\n",
        "  Random Forest Classifier: el recall para los casos con etiquetas 0 (no_cyberbullying) fue de 0.26 lo que significa que muchos casos fueron considerados como bullying reales cuando no lo eran. En el Modelo de Lenguaje este valor mejoro a (0.51)\n",
        "\n",
        "- **Precision**: Esta metrica nos permite identificar de todos los casos que era no_bullying y bullying, cuantos de ellos eran realmente dicha etiqueta.\n",
        "  \n",
        "  El modelo de lenguaje tuvo un valor de (0.76) y (0.91) respectivamente. Esto en comparación con el primer modelo que en la etiqueta de no_cyberbullying fui ligeramente mayor (0.78) pero las etiquetas de bullyng tuvieron un valor menor de (0.87).\n"
      ],
      "metadata": {
        "id": "4cuz8Lx9xnPF"
      }
    },
    {
      "cell_type": "code",
      "source": [],
      "metadata": {
        "id": "EMg7amsPAOLe"
      },
      "execution_count": null,
      "outputs": []
    }
  ],
  "metadata": {
    "accelerator": "GPU",
    "colab": {
      "gpuType": "T4",
      "provenance": [],
      "toc_visible": true
    },
    "kernelspec": {
      "display_name": "Python 3",
      "name": "python3"
    },
    "language_info": {
      "name": "python"
    },
    "widgets": {
      "application/vnd.jupyter.widget-state+json": {
        "648ee178901d466ba27befb971625858": {
          "model_module": "@jupyter-widgets/controls",
          "model_name": "HBoxModel",
          "model_module_version": "1.5.0",
          "state": {
            "_dom_classes": [],
            "_model_module": "@jupyter-widgets/controls",
            "_model_module_version": "1.5.0",
            "_model_name": "HBoxModel",
            "_view_count": null,
            "_view_module": "@jupyter-widgets/controls",
            "_view_module_version": "1.5.0",
            "_view_name": "HBoxView",
            "box_style": "",
            "children": [
              "IPY_MODEL_bc5a960e653a4a62963133148f9da3f1",
              "IPY_MODEL_e53af804faec4f53b1d5f983cc88ea1b",
              "IPY_MODEL_8579261cc31c4c23a823cd50ef80772b"
            ],
            "layout": "IPY_MODEL_8ef37681d44a4a2c8d70b0809b1620a3"
          }
        },
        "bc5a960e653a4a62963133148f9da3f1": {
          "model_module": "@jupyter-widgets/controls",
          "model_name": "HTMLModel",
          "model_module_version": "1.5.0",
          "state": {
            "_dom_classes": [],
            "_model_module": "@jupyter-widgets/controls",
            "_model_module_version": "1.5.0",
            "_model_name": "HTMLModel",
            "_view_count": null,
            "_view_module": "@jupyter-widgets/controls",
            "_view_module_version": "1.5.0",
            "_view_name": "HTMLView",
            "description": "",
            "description_tooltip": null,
            "layout": "IPY_MODEL_752136ba6f0a46c8b19076d6e38ac5ab",
            "placeholder": "​",
            "style": "IPY_MODEL_9a0c9656b8ab47e2a79a2ea165a3b866",
            "value": "tokenizer_config.json: 100%"
          }
        },
        "e53af804faec4f53b1d5f983cc88ea1b": {
          "model_module": "@jupyter-widgets/controls",
          "model_name": "FloatProgressModel",
          "model_module_version": "1.5.0",
          "state": {
            "_dom_classes": [],
            "_model_module": "@jupyter-widgets/controls",
            "_model_module_version": "1.5.0",
            "_model_name": "FloatProgressModel",
            "_view_count": null,
            "_view_module": "@jupyter-widgets/controls",
            "_view_module_version": "1.5.0",
            "_view_name": "ProgressView",
            "bar_style": "success",
            "description": "",
            "description_tooltip": null,
            "layout": "IPY_MODEL_704ad7fb04dc454e93167adf3844c777",
            "max": 48,
            "min": 0,
            "orientation": "horizontal",
            "style": "IPY_MODEL_9ad2cae5ee01433996680a1fa15170be",
            "value": 48
          }
        },
        "8579261cc31c4c23a823cd50ef80772b": {
          "model_module": "@jupyter-widgets/controls",
          "model_name": "HTMLModel",
          "model_module_version": "1.5.0",
          "state": {
            "_dom_classes": [],
            "_model_module": "@jupyter-widgets/controls",
            "_model_module_version": "1.5.0",
            "_model_name": "HTMLModel",
            "_view_count": null,
            "_view_module": "@jupyter-widgets/controls",
            "_view_module_version": "1.5.0",
            "_view_name": "HTMLView",
            "description": "",
            "description_tooltip": null,
            "layout": "IPY_MODEL_41d986f474554f7bb52fce756b444e3c",
            "placeholder": "​",
            "style": "IPY_MODEL_e83efbae73c94490baa0f6bf15ba85bd",
            "value": " 48.0/48.0 [00:00&lt;00:00, 1.82kB/s]"
          }
        },
        "8ef37681d44a4a2c8d70b0809b1620a3": {
          "model_module": "@jupyter-widgets/base",
          "model_name": "LayoutModel",
          "model_module_version": "1.2.0",
          "state": {
            "_model_module": "@jupyter-widgets/base",
            "_model_module_version": "1.2.0",
            "_model_name": "LayoutModel",
            "_view_count": null,
            "_view_module": "@jupyter-widgets/base",
            "_view_module_version": "1.2.0",
            "_view_name": "LayoutView",
            "align_content": null,
            "align_items": null,
            "align_self": null,
            "border": null,
            "bottom": null,
            "display": null,
            "flex": null,
            "flex_flow": null,
            "grid_area": null,
            "grid_auto_columns": null,
            "grid_auto_flow": null,
            "grid_auto_rows": null,
            "grid_column": null,
            "grid_gap": null,
            "grid_row": null,
            "grid_template_areas": null,
            "grid_template_columns": null,
            "grid_template_rows": null,
            "height": null,
            "justify_content": null,
            "justify_items": null,
            "left": null,
            "margin": null,
            "max_height": null,
            "max_width": null,
            "min_height": null,
            "min_width": null,
            "object_fit": null,
            "object_position": null,
            "order": null,
            "overflow": null,
            "overflow_x": null,
            "overflow_y": null,
            "padding": null,
            "right": null,
            "top": null,
            "visibility": null,
            "width": null
          }
        },
        "752136ba6f0a46c8b19076d6e38ac5ab": {
          "model_module": "@jupyter-widgets/base",
          "model_name": "LayoutModel",
          "model_module_version": "1.2.0",
          "state": {
            "_model_module": "@jupyter-widgets/base",
            "_model_module_version": "1.2.0",
            "_model_name": "LayoutModel",
            "_view_count": null,
            "_view_module": "@jupyter-widgets/base",
            "_view_module_version": "1.2.0",
            "_view_name": "LayoutView",
            "align_content": null,
            "align_items": null,
            "align_self": null,
            "border": null,
            "bottom": null,
            "display": null,
            "flex": null,
            "flex_flow": null,
            "grid_area": null,
            "grid_auto_columns": null,
            "grid_auto_flow": null,
            "grid_auto_rows": null,
            "grid_column": null,
            "grid_gap": null,
            "grid_row": null,
            "grid_template_areas": null,
            "grid_template_columns": null,
            "grid_template_rows": null,
            "height": null,
            "justify_content": null,
            "justify_items": null,
            "left": null,
            "margin": null,
            "max_height": null,
            "max_width": null,
            "min_height": null,
            "min_width": null,
            "object_fit": null,
            "object_position": null,
            "order": null,
            "overflow": null,
            "overflow_x": null,
            "overflow_y": null,
            "padding": null,
            "right": null,
            "top": null,
            "visibility": null,
            "width": null
          }
        },
        "9a0c9656b8ab47e2a79a2ea165a3b866": {
          "model_module": "@jupyter-widgets/controls",
          "model_name": "DescriptionStyleModel",
          "model_module_version": "1.5.0",
          "state": {
            "_model_module": "@jupyter-widgets/controls",
            "_model_module_version": "1.5.0",
            "_model_name": "DescriptionStyleModel",
            "_view_count": null,
            "_view_module": "@jupyter-widgets/base",
            "_view_module_version": "1.2.0",
            "_view_name": "StyleView",
            "description_width": ""
          }
        },
        "704ad7fb04dc454e93167adf3844c777": {
          "model_module": "@jupyter-widgets/base",
          "model_name": "LayoutModel",
          "model_module_version": "1.2.0",
          "state": {
            "_model_module": "@jupyter-widgets/base",
            "_model_module_version": "1.2.0",
            "_model_name": "LayoutModel",
            "_view_count": null,
            "_view_module": "@jupyter-widgets/base",
            "_view_module_version": "1.2.0",
            "_view_name": "LayoutView",
            "align_content": null,
            "align_items": null,
            "align_self": null,
            "border": null,
            "bottom": null,
            "display": null,
            "flex": null,
            "flex_flow": null,
            "grid_area": null,
            "grid_auto_columns": null,
            "grid_auto_flow": null,
            "grid_auto_rows": null,
            "grid_column": null,
            "grid_gap": null,
            "grid_row": null,
            "grid_template_areas": null,
            "grid_template_columns": null,
            "grid_template_rows": null,
            "height": null,
            "justify_content": null,
            "justify_items": null,
            "left": null,
            "margin": null,
            "max_height": null,
            "max_width": null,
            "min_height": null,
            "min_width": null,
            "object_fit": null,
            "object_position": null,
            "order": null,
            "overflow": null,
            "overflow_x": null,
            "overflow_y": null,
            "padding": null,
            "right": null,
            "top": null,
            "visibility": null,
            "width": null
          }
        },
        "9ad2cae5ee01433996680a1fa15170be": {
          "model_module": "@jupyter-widgets/controls",
          "model_name": "ProgressStyleModel",
          "model_module_version": "1.5.0",
          "state": {
            "_model_module": "@jupyter-widgets/controls",
            "_model_module_version": "1.5.0",
            "_model_name": "ProgressStyleModel",
            "_view_count": null,
            "_view_module": "@jupyter-widgets/base",
            "_view_module_version": "1.2.0",
            "_view_name": "StyleView",
            "bar_color": null,
            "description_width": ""
          }
        },
        "41d986f474554f7bb52fce756b444e3c": {
          "model_module": "@jupyter-widgets/base",
          "model_name": "LayoutModel",
          "model_module_version": "1.2.0",
          "state": {
            "_model_module": "@jupyter-widgets/base",
            "_model_module_version": "1.2.0",
            "_model_name": "LayoutModel",
            "_view_count": null,
            "_view_module": "@jupyter-widgets/base",
            "_view_module_version": "1.2.0",
            "_view_name": "LayoutView",
            "align_content": null,
            "align_items": null,
            "align_self": null,
            "border": null,
            "bottom": null,
            "display": null,
            "flex": null,
            "flex_flow": null,
            "grid_area": null,
            "grid_auto_columns": null,
            "grid_auto_flow": null,
            "grid_auto_rows": null,
            "grid_column": null,
            "grid_gap": null,
            "grid_row": null,
            "grid_template_areas": null,
            "grid_template_columns": null,
            "grid_template_rows": null,
            "height": null,
            "justify_content": null,
            "justify_items": null,
            "left": null,
            "margin": null,
            "max_height": null,
            "max_width": null,
            "min_height": null,
            "min_width": null,
            "object_fit": null,
            "object_position": null,
            "order": null,
            "overflow": null,
            "overflow_x": null,
            "overflow_y": null,
            "padding": null,
            "right": null,
            "top": null,
            "visibility": null,
            "width": null
          }
        },
        "e83efbae73c94490baa0f6bf15ba85bd": {
          "model_module": "@jupyter-widgets/controls",
          "model_name": "DescriptionStyleModel",
          "model_module_version": "1.5.0",
          "state": {
            "_model_module": "@jupyter-widgets/controls",
            "_model_module_version": "1.5.0",
            "_model_name": "DescriptionStyleModel",
            "_view_count": null,
            "_view_module": "@jupyter-widgets/base",
            "_view_module_version": "1.2.0",
            "_view_name": "StyleView",
            "description_width": ""
          }
        },
        "af45ab2c18e943789d54311e9e896e7e": {
          "model_module": "@jupyter-widgets/controls",
          "model_name": "HBoxModel",
          "model_module_version": "1.5.0",
          "state": {
            "_dom_classes": [],
            "_model_module": "@jupyter-widgets/controls",
            "_model_module_version": "1.5.0",
            "_model_name": "HBoxModel",
            "_view_count": null,
            "_view_module": "@jupyter-widgets/controls",
            "_view_module_version": "1.5.0",
            "_view_name": "HBoxView",
            "box_style": "",
            "children": [
              "IPY_MODEL_1a9ea4e2bcb14bfbabe7d5164b7c1c8f",
              "IPY_MODEL_6afbf0bcc9314c90859856fa7187b08a",
              "IPY_MODEL_466f2ed23ae843409cec6cf3f75462c7"
            ],
            "layout": "IPY_MODEL_c9e95bb21d384489be9416759db5f42e"
          }
        },
        "1a9ea4e2bcb14bfbabe7d5164b7c1c8f": {
          "model_module": "@jupyter-widgets/controls",
          "model_name": "HTMLModel",
          "model_module_version": "1.5.0",
          "state": {
            "_dom_classes": [],
            "_model_module": "@jupyter-widgets/controls",
            "_model_module_version": "1.5.0",
            "_model_name": "HTMLModel",
            "_view_count": null,
            "_view_module": "@jupyter-widgets/controls",
            "_view_module_version": "1.5.0",
            "_view_name": "HTMLView",
            "description": "",
            "description_tooltip": null,
            "layout": "IPY_MODEL_664323d257be46158042dfbde344e96c",
            "placeholder": "​",
            "style": "IPY_MODEL_d17e521e76cc4a6ba92873866d7c11b5",
            "value": "config.json: 100%"
          }
        },
        "6afbf0bcc9314c90859856fa7187b08a": {
          "model_module": "@jupyter-widgets/controls",
          "model_name": "FloatProgressModel",
          "model_module_version": "1.5.0",
          "state": {
            "_dom_classes": [],
            "_model_module": "@jupyter-widgets/controls",
            "_model_module_version": "1.5.0",
            "_model_name": "FloatProgressModel",
            "_view_count": null,
            "_view_module": "@jupyter-widgets/controls",
            "_view_module_version": "1.5.0",
            "_view_name": "ProgressView",
            "bar_style": "success",
            "description": "",
            "description_tooltip": null,
            "layout": "IPY_MODEL_a16fb0574a2e45e796f1a0e417a17c97",
            "max": 570,
            "min": 0,
            "orientation": "horizontal",
            "style": "IPY_MODEL_69df57b1c8304931821d3b16632242ed",
            "value": 570
          }
        },
        "466f2ed23ae843409cec6cf3f75462c7": {
          "model_module": "@jupyter-widgets/controls",
          "model_name": "HTMLModel",
          "model_module_version": "1.5.0",
          "state": {
            "_dom_classes": [],
            "_model_module": "@jupyter-widgets/controls",
            "_model_module_version": "1.5.0",
            "_model_name": "HTMLModel",
            "_view_count": null,
            "_view_module": "@jupyter-widgets/controls",
            "_view_module_version": "1.5.0",
            "_view_name": "HTMLView",
            "description": "",
            "description_tooltip": null,
            "layout": "IPY_MODEL_731d447125f34d918b17645657099e3e",
            "placeholder": "​",
            "style": "IPY_MODEL_201b66e7a0e2471199289866b64d25fd",
            "value": " 570/570 [00:00&lt;00:00, 24.4kB/s]"
          }
        },
        "c9e95bb21d384489be9416759db5f42e": {
          "model_module": "@jupyter-widgets/base",
          "model_name": "LayoutModel",
          "model_module_version": "1.2.0",
          "state": {
            "_model_module": "@jupyter-widgets/base",
            "_model_module_version": "1.2.0",
            "_model_name": "LayoutModel",
            "_view_count": null,
            "_view_module": "@jupyter-widgets/base",
            "_view_module_version": "1.2.0",
            "_view_name": "LayoutView",
            "align_content": null,
            "align_items": null,
            "align_self": null,
            "border": null,
            "bottom": null,
            "display": null,
            "flex": null,
            "flex_flow": null,
            "grid_area": null,
            "grid_auto_columns": null,
            "grid_auto_flow": null,
            "grid_auto_rows": null,
            "grid_column": null,
            "grid_gap": null,
            "grid_row": null,
            "grid_template_areas": null,
            "grid_template_columns": null,
            "grid_template_rows": null,
            "height": null,
            "justify_content": null,
            "justify_items": null,
            "left": null,
            "margin": null,
            "max_height": null,
            "max_width": null,
            "min_height": null,
            "min_width": null,
            "object_fit": null,
            "object_position": null,
            "order": null,
            "overflow": null,
            "overflow_x": null,
            "overflow_y": null,
            "padding": null,
            "right": null,
            "top": null,
            "visibility": null,
            "width": null
          }
        },
        "664323d257be46158042dfbde344e96c": {
          "model_module": "@jupyter-widgets/base",
          "model_name": "LayoutModel",
          "model_module_version": "1.2.0",
          "state": {
            "_model_module": "@jupyter-widgets/base",
            "_model_module_version": "1.2.0",
            "_model_name": "LayoutModel",
            "_view_count": null,
            "_view_module": "@jupyter-widgets/base",
            "_view_module_version": "1.2.0",
            "_view_name": "LayoutView",
            "align_content": null,
            "align_items": null,
            "align_self": null,
            "border": null,
            "bottom": null,
            "display": null,
            "flex": null,
            "flex_flow": null,
            "grid_area": null,
            "grid_auto_columns": null,
            "grid_auto_flow": null,
            "grid_auto_rows": null,
            "grid_column": null,
            "grid_gap": null,
            "grid_row": null,
            "grid_template_areas": null,
            "grid_template_columns": null,
            "grid_template_rows": null,
            "height": null,
            "justify_content": null,
            "justify_items": null,
            "left": null,
            "margin": null,
            "max_height": null,
            "max_width": null,
            "min_height": null,
            "min_width": null,
            "object_fit": null,
            "object_position": null,
            "order": null,
            "overflow": null,
            "overflow_x": null,
            "overflow_y": null,
            "padding": null,
            "right": null,
            "top": null,
            "visibility": null,
            "width": null
          }
        },
        "d17e521e76cc4a6ba92873866d7c11b5": {
          "model_module": "@jupyter-widgets/controls",
          "model_name": "DescriptionStyleModel",
          "model_module_version": "1.5.0",
          "state": {
            "_model_module": "@jupyter-widgets/controls",
            "_model_module_version": "1.5.0",
            "_model_name": "DescriptionStyleModel",
            "_view_count": null,
            "_view_module": "@jupyter-widgets/base",
            "_view_module_version": "1.2.0",
            "_view_name": "StyleView",
            "description_width": ""
          }
        },
        "a16fb0574a2e45e796f1a0e417a17c97": {
          "model_module": "@jupyter-widgets/base",
          "model_name": "LayoutModel",
          "model_module_version": "1.2.0",
          "state": {
            "_model_module": "@jupyter-widgets/base",
            "_model_module_version": "1.2.0",
            "_model_name": "LayoutModel",
            "_view_count": null,
            "_view_module": "@jupyter-widgets/base",
            "_view_module_version": "1.2.0",
            "_view_name": "LayoutView",
            "align_content": null,
            "align_items": null,
            "align_self": null,
            "border": null,
            "bottom": null,
            "display": null,
            "flex": null,
            "flex_flow": null,
            "grid_area": null,
            "grid_auto_columns": null,
            "grid_auto_flow": null,
            "grid_auto_rows": null,
            "grid_column": null,
            "grid_gap": null,
            "grid_row": null,
            "grid_template_areas": null,
            "grid_template_columns": null,
            "grid_template_rows": null,
            "height": null,
            "justify_content": null,
            "justify_items": null,
            "left": null,
            "margin": null,
            "max_height": null,
            "max_width": null,
            "min_height": null,
            "min_width": null,
            "object_fit": null,
            "object_position": null,
            "order": null,
            "overflow": null,
            "overflow_x": null,
            "overflow_y": null,
            "padding": null,
            "right": null,
            "top": null,
            "visibility": null,
            "width": null
          }
        },
        "69df57b1c8304931821d3b16632242ed": {
          "model_module": "@jupyter-widgets/controls",
          "model_name": "ProgressStyleModel",
          "model_module_version": "1.5.0",
          "state": {
            "_model_module": "@jupyter-widgets/controls",
            "_model_module_version": "1.5.0",
            "_model_name": "ProgressStyleModel",
            "_view_count": null,
            "_view_module": "@jupyter-widgets/base",
            "_view_module_version": "1.2.0",
            "_view_name": "StyleView",
            "bar_color": null,
            "description_width": ""
          }
        },
        "731d447125f34d918b17645657099e3e": {
          "model_module": "@jupyter-widgets/base",
          "model_name": "LayoutModel",
          "model_module_version": "1.2.0",
          "state": {
            "_model_module": "@jupyter-widgets/base",
            "_model_module_version": "1.2.0",
            "_model_name": "LayoutModel",
            "_view_count": null,
            "_view_module": "@jupyter-widgets/base",
            "_view_module_version": "1.2.0",
            "_view_name": "LayoutView",
            "align_content": null,
            "align_items": null,
            "align_self": null,
            "border": null,
            "bottom": null,
            "display": null,
            "flex": null,
            "flex_flow": null,
            "grid_area": null,
            "grid_auto_columns": null,
            "grid_auto_flow": null,
            "grid_auto_rows": null,
            "grid_column": null,
            "grid_gap": null,
            "grid_row": null,
            "grid_template_areas": null,
            "grid_template_columns": null,
            "grid_template_rows": null,
            "height": null,
            "justify_content": null,
            "justify_items": null,
            "left": null,
            "margin": null,
            "max_height": null,
            "max_width": null,
            "min_height": null,
            "min_width": null,
            "object_fit": null,
            "object_position": null,
            "order": null,
            "overflow": null,
            "overflow_x": null,
            "overflow_y": null,
            "padding": null,
            "right": null,
            "top": null,
            "visibility": null,
            "width": null
          }
        },
        "201b66e7a0e2471199289866b64d25fd": {
          "model_module": "@jupyter-widgets/controls",
          "model_name": "DescriptionStyleModel",
          "model_module_version": "1.5.0",
          "state": {
            "_model_module": "@jupyter-widgets/controls",
            "_model_module_version": "1.5.0",
            "_model_name": "DescriptionStyleModel",
            "_view_count": null,
            "_view_module": "@jupyter-widgets/base",
            "_view_module_version": "1.2.0",
            "_view_name": "StyleView",
            "description_width": ""
          }
        },
        "553dcb634754466083c0acd7e262706b": {
          "model_module": "@jupyter-widgets/controls",
          "model_name": "HBoxModel",
          "model_module_version": "1.5.0",
          "state": {
            "_dom_classes": [],
            "_model_module": "@jupyter-widgets/controls",
            "_model_module_version": "1.5.0",
            "_model_name": "HBoxModel",
            "_view_count": null,
            "_view_module": "@jupyter-widgets/controls",
            "_view_module_version": "1.5.0",
            "_view_name": "HBoxView",
            "box_style": "",
            "children": [
              "IPY_MODEL_05dbdf4c96b34b2f987a66bb4f034ad6",
              "IPY_MODEL_4117d676f51146aabc3dbfbd0abed3dd",
              "IPY_MODEL_cd174ef3077f4322a842cae1cb7d7048"
            ],
            "layout": "IPY_MODEL_1c3d7935d7dc4442b322a20b8b37b097"
          }
        },
        "05dbdf4c96b34b2f987a66bb4f034ad6": {
          "model_module": "@jupyter-widgets/controls",
          "model_name": "HTMLModel",
          "model_module_version": "1.5.0",
          "state": {
            "_dom_classes": [],
            "_model_module": "@jupyter-widgets/controls",
            "_model_module_version": "1.5.0",
            "_model_name": "HTMLModel",
            "_view_count": null,
            "_view_module": "@jupyter-widgets/controls",
            "_view_module_version": "1.5.0",
            "_view_name": "HTMLView",
            "description": "",
            "description_tooltip": null,
            "layout": "IPY_MODEL_45af4cb8c620421c96aea3aca5a99cc1",
            "placeholder": "​",
            "style": "IPY_MODEL_6d7623a439b34ddc990d35be53a0d972",
            "value": "vocab.txt: 100%"
          }
        },
        "4117d676f51146aabc3dbfbd0abed3dd": {
          "model_module": "@jupyter-widgets/controls",
          "model_name": "FloatProgressModel",
          "model_module_version": "1.5.0",
          "state": {
            "_dom_classes": [],
            "_model_module": "@jupyter-widgets/controls",
            "_model_module_version": "1.5.0",
            "_model_name": "FloatProgressModel",
            "_view_count": null,
            "_view_module": "@jupyter-widgets/controls",
            "_view_module_version": "1.5.0",
            "_view_name": "ProgressView",
            "bar_style": "success",
            "description": "",
            "description_tooltip": null,
            "layout": "IPY_MODEL_b97a33df7a944be2a4cbe2cd60998e68",
            "max": 231508,
            "min": 0,
            "orientation": "horizontal",
            "style": "IPY_MODEL_559772f7e13d4c1d9e25a793b136ec03",
            "value": 231508
          }
        },
        "cd174ef3077f4322a842cae1cb7d7048": {
          "model_module": "@jupyter-widgets/controls",
          "model_name": "HTMLModel",
          "model_module_version": "1.5.0",
          "state": {
            "_dom_classes": [],
            "_model_module": "@jupyter-widgets/controls",
            "_model_module_version": "1.5.0",
            "_model_name": "HTMLModel",
            "_view_count": null,
            "_view_module": "@jupyter-widgets/controls",
            "_view_module_version": "1.5.0",
            "_view_name": "HTMLView",
            "description": "",
            "description_tooltip": null,
            "layout": "IPY_MODEL_24e82b21d6964f6eadba66f75dbac642",
            "placeholder": "​",
            "style": "IPY_MODEL_666480e18b2c442e99b0d5cafbc8e26a",
            "value": " 232k/232k [00:00&lt;00:00, 3.18MB/s]"
          }
        },
        "1c3d7935d7dc4442b322a20b8b37b097": {
          "model_module": "@jupyter-widgets/base",
          "model_name": "LayoutModel",
          "model_module_version": "1.2.0",
          "state": {
            "_model_module": "@jupyter-widgets/base",
            "_model_module_version": "1.2.0",
            "_model_name": "LayoutModel",
            "_view_count": null,
            "_view_module": "@jupyter-widgets/base",
            "_view_module_version": "1.2.0",
            "_view_name": "LayoutView",
            "align_content": null,
            "align_items": null,
            "align_self": null,
            "border": null,
            "bottom": null,
            "display": null,
            "flex": null,
            "flex_flow": null,
            "grid_area": null,
            "grid_auto_columns": null,
            "grid_auto_flow": null,
            "grid_auto_rows": null,
            "grid_column": null,
            "grid_gap": null,
            "grid_row": null,
            "grid_template_areas": null,
            "grid_template_columns": null,
            "grid_template_rows": null,
            "height": null,
            "justify_content": null,
            "justify_items": null,
            "left": null,
            "margin": null,
            "max_height": null,
            "max_width": null,
            "min_height": null,
            "min_width": null,
            "object_fit": null,
            "object_position": null,
            "order": null,
            "overflow": null,
            "overflow_x": null,
            "overflow_y": null,
            "padding": null,
            "right": null,
            "top": null,
            "visibility": null,
            "width": null
          }
        },
        "45af4cb8c620421c96aea3aca5a99cc1": {
          "model_module": "@jupyter-widgets/base",
          "model_name": "LayoutModel",
          "model_module_version": "1.2.0",
          "state": {
            "_model_module": "@jupyter-widgets/base",
            "_model_module_version": "1.2.0",
            "_model_name": "LayoutModel",
            "_view_count": null,
            "_view_module": "@jupyter-widgets/base",
            "_view_module_version": "1.2.0",
            "_view_name": "LayoutView",
            "align_content": null,
            "align_items": null,
            "align_self": null,
            "border": null,
            "bottom": null,
            "display": null,
            "flex": null,
            "flex_flow": null,
            "grid_area": null,
            "grid_auto_columns": null,
            "grid_auto_flow": null,
            "grid_auto_rows": null,
            "grid_column": null,
            "grid_gap": null,
            "grid_row": null,
            "grid_template_areas": null,
            "grid_template_columns": null,
            "grid_template_rows": null,
            "height": null,
            "justify_content": null,
            "justify_items": null,
            "left": null,
            "margin": null,
            "max_height": null,
            "max_width": null,
            "min_height": null,
            "min_width": null,
            "object_fit": null,
            "object_position": null,
            "order": null,
            "overflow": null,
            "overflow_x": null,
            "overflow_y": null,
            "padding": null,
            "right": null,
            "top": null,
            "visibility": null,
            "width": null
          }
        },
        "6d7623a439b34ddc990d35be53a0d972": {
          "model_module": "@jupyter-widgets/controls",
          "model_name": "DescriptionStyleModel",
          "model_module_version": "1.5.0",
          "state": {
            "_model_module": "@jupyter-widgets/controls",
            "_model_module_version": "1.5.0",
            "_model_name": "DescriptionStyleModel",
            "_view_count": null,
            "_view_module": "@jupyter-widgets/base",
            "_view_module_version": "1.2.0",
            "_view_name": "StyleView",
            "description_width": ""
          }
        },
        "b97a33df7a944be2a4cbe2cd60998e68": {
          "model_module": "@jupyter-widgets/base",
          "model_name": "LayoutModel",
          "model_module_version": "1.2.0",
          "state": {
            "_model_module": "@jupyter-widgets/base",
            "_model_module_version": "1.2.0",
            "_model_name": "LayoutModel",
            "_view_count": null,
            "_view_module": "@jupyter-widgets/base",
            "_view_module_version": "1.2.0",
            "_view_name": "LayoutView",
            "align_content": null,
            "align_items": null,
            "align_self": null,
            "border": null,
            "bottom": null,
            "display": null,
            "flex": null,
            "flex_flow": null,
            "grid_area": null,
            "grid_auto_columns": null,
            "grid_auto_flow": null,
            "grid_auto_rows": null,
            "grid_column": null,
            "grid_gap": null,
            "grid_row": null,
            "grid_template_areas": null,
            "grid_template_columns": null,
            "grid_template_rows": null,
            "height": null,
            "justify_content": null,
            "justify_items": null,
            "left": null,
            "margin": null,
            "max_height": null,
            "max_width": null,
            "min_height": null,
            "min_width": null,
            "object_fit": null,
            "object_position": null,
            "order": null,
            "overflow": null,
            "overflow_x": null,
            "overflow_y": null,
            "padding": null,
            "right": null,
            "top": null,
            "visibility": null,
            "width": null
          }
        },
        "559772f7e13d4c1d9e25a793b136ec03": {
          "model_module": "@jupyter-widgets/controls",
          "model_name": "ProgressStyleModel",
          "model_module_version": "1.5.0",
          "state": {
            "_model_module": "@jupyter-widgets/controls",
            "_model_module_version": "1.5.0",
            "_model_name": "ProgressStyleModel",
            "_view_count": null,
            "_view_module": "@jupyter-widgets/base",
            "_view_module_version": "1.2.0",
            "_view_name": "StyleView",
            "bar_color": null,
            "description_width": ""
          }
        },
        "24e82b21d6964f6eadba66f75dbac642": {
          "model_module": "@jupyter-widgets/base",
          "model_name": "LayoutModel",
          "model_module_version": "1.2.0",
          "state": {
            "_model_module": "@jupyter-widgets/base",
            "_model_module_version": "1.2.0",
            "_model_name": "LayoutModel",
            "_view_count": null,
            "_view_module": "@jupyter-widgets/base",
            "_view_module_version": "1.2.0",
            "_view_name": "LayoutView",
            "align_content": null,
            "align_items": null,
            "align_self": null,
            "border": null,
            "bottom": null,
            "display": null,
            "flex": null,
            "flex_flow": null,
            "grid_area": null,
            "grid_auto_columns": null,
            "grid_auto_flow": null,
            "grid_auto_rows": null,
            "grid_column": null,
            "grid_gap": null,
            "grid_row": null,
            "grid_template_areas": null,
            "grid_template_columns": null,
            "grid_template_rows": null,
            "height": null,
            "justify_content": null,
            "justify_items": null,
            "left": null,
            "margin": null,
            "max_height": null,
            "max_width": null,
            "min_height": null,
            "min_width": null,
            "object_fit": null,
            "object_position": null,
            "order": null,
            "overflow": null,
            "overflow_x": null,
            "overflow_y": null,
            "padding": null,
            "right": null,
            "top": null,
            "visibility": null,
            "width": null
          }
        },
        "666480e18b2c442e99b0d5cafbc8e26a": {
          "model_module": "@jupyter-widgets/controls",
          "model_name": "DescriptionStyleModel",
          "model_module_version": "1.5.0",
          "state": {
            "_model_module": "@jupyter-widgets/controls",
            "_model_module_version": "1.5.0",
            "_model_name": "DescriptionStyleModel",
            "_view_count": null,
            "_view_module": "@jupyter-widgets/base",
            "_view_module_version": "1.2.0",
            "_view_name": "StyleView",
            "description_width": ""
          }
        },
        "941c6b4992fd4462b7b22289405c4565": {
          "model_module": "@jupyter-widgets/controls",
          "model_name": "HBoxModel",
          "model_module_version": "1.5.0",
          "state": {
            "_dom_classes": [],
            "_model_module": "@jupyter-widgets/controls",
            "_model_module_version": "1.5.0",
            "_model_name": "HBoxModel",
            "_view_count": null,
            "_view_module": "@jupyter-widgets/controls",
            "_view_module_version": "1.5.0",
            "_view_name": "HBoxView",
            "box_style": "",
            "children": [
              "IPY_MODEL_f09fd7cef5de4983970e2fc13e9dd5dd",
              "IPY_MODEL_234c0346c666456dac29e3ced434f8a1",
              "IPY_MODEL_f468df2994ac4f7fb7c3c5535d3a25fd"
            ],
            "layout": "IPY_MODEL_b877d78235684990a995e72a09d008d3"
          }
        },
        "f09fd7cef5de4983970e2fc13e9dd5dd": {
          "model_module": "@jupyter-widgets/controls",
          "model_name": "HTMLModel",
          "model_module_version": "1.5.0",
          "state": {
            "_dom_classes": [],
            "_model_module": "@jupyter-widgets/controls",
            "_model_module_version": "1.5.0",
            "_model_name": "HTMLModel",
            "_view_count": null,
            "_view_module": "@jupyter-widgets/controls",
            "_view_module_version": "1.5.0",
            "_view_name": "HTMLView",
            "description": "",
            "description_tooltip": null,
            "layout": "IPY_MODEL_3fdfdff252284a2c886d872ce6ad53f5",
            "placeholder": "​",
            "style": "IPY_MODEL_7c1ea775aea54158ba198bf106a1fdfb",
            "value": "tokenizer.json: 100%"
          }
        },
        "234c0346c666456dac29e3ced434f8a1": {
          "model_module": "@jupyter-widgets/controls",
          "model_name": "FloatProgressModel",
          "model_module_version": "1.5.0",
          "state": {
            "_dom_classes": [],
            "_model_module": "@jupyter-widgets/controls",
            "_model_module_version": "1.5.0",
            "_model_name": "FloatProgressModel",
            "_view_count": null,
            "_view_module": "@jupyter-widgets/controls",
            "_view_module_version": "1.5.0",
            "_view_name": "ProgressView",
            "bar_style": "success",
            "description": "",
            "description_tooltip": null,
            "layout": "IPY_MODEL_f91f9af4c4e946758f0d4f5359f1e325",
            "max": 466062,
            "min": 0,
            "orientation": "horizontal",
            "style": "IPY_MODEL_a9f9b4c5df3c48d8abc07e941dc38962",
            "value": 466062
          }
        },
        "f468df2994ac4f7fb7c3c5535d3a25fd": {
          "model_module": "@jupyter-widgets/controls",
          "model_name": "HTMLModel",
          "model_module_version": "1.5.0",
          "state": {
            "_dom_classes": [],
            "_model_module": "@jupyter-widgets/controls",
            "_model_module_version": "1.5.0",
            "_model_name": "HTMLModel",
            "_view_count": null,
            "_view_module": "@jupyter-widgets/controls",
            "_view_module_version": "1.5.0",
            "_view_name": "HTMLView",
            "description": "",
            "description_tooltip": null,
            "layout": "IPY_MODEL_5f8ebb010e4d4d2d8723815b8e915a62",
            "placeholder": "​",
            "style": "IPY_MODEL_6b915e6c2aac4ed8b2269c79e38c8001",
            "value": " 466k/466k [00:00&lt;00:00, 3.53MB/s]"
          }
        },
        "b877d78235684990a995e72a09d008d3": {
          "model_module": "@jupyter-widgets/base",
          "model_name": "LayoutModel",
          "model_module_version": "1.2.0",
          "state": {
            "_model_module": "@jupyter-widgets/base",
            "_model_module_version": "1.2.0",
            "_model_name": "LayoutModel",
            "_view_count": null,
            "_view_module": "@jupyter-widgets/base",
            "_view_module_version": "1.2.0",
            "_view_name": "LayoutView",
            "align_content": null,
            "align_items": null,
            "align_self": null,
            "border": null,
            "bottom": null,
            "display": null,
            "flex": null,
            "flex_flow": null,
            "grid_area": null,
            "grid_auto_columns": null,
            "grid_auto_flow": null,
            "grid_auto_rows": null,
            "grid_column": null,
            "grid_gap": null,
            "grid_row": null,
            "grid_template_areas": null,
            "grid_template_columns": null,
            "grid_template_rows": null,
            "height": null,
            "justify_content": null,
            "justify_items": null,
            "left": null,
            "margin": null,
            "max_height": null,
            "max_width": null,
            "min_height": null,
            "min_width": null,
            "object_fit": null,
            "object_position": null,
            "order": null,
            "overflow": null,
            "overflow_x": null,
            "overflow_y": null,
            "padding": null,
            "right": null,
            "top": null,
            "visibility": null,
            "width": null
          }
        },
        "3fdfdff252284a2c886d872ce6ad53f5": {
          "model_module": "@jupyter-widgets/base",
          "model_name": "LayoutModel",
          "model_module_version": "1.2.0",
          "state": {
            "_model_module": "@jupyter-widgets/base",
            "_model_module_version": "1.2.0",
            "_model_name": "LayoutModel",
            "_view_count": null,
            "_view_module": "@jupyter-widgets/base",
            "_view_module_version": "1.2.0",
            "_view_name": "LayoutView",
            "align_content": null,
            "align_items": null,
            "align_self": null,
            "border": null,
            "bottom": null,
            "display": null,
            "flex": null,
            "flex_flow": null,
            "grid_area": null,
            "grid_auto_columns": null,
            "grid_auto_flow": null,
            "grid_auto_rows": null,
            "grid_column": null,
            "grid_gap": null,
            "grid_row": null,
            "grid_template_areas": null,
            "grid_template_columns": null,
            "grid_template_rows": null,
            "height": null,
            "justify_content": null,
            "justify_items": null,
            "left": null,
            "margin": null,
            "max_height": null,
            "max_width": null,
            "min_height": null,
            "min_width": null,
            "object_fit": null,
            "object_position": null,
            "order": null,
            "overflow": null,
            "overflow_x": null,
            "overflow_y": null,
            "padding": null,
            "right": null,
            "top": null,
            "visibility": null,
            "width": null
          }
        },
        "7c1ea775aea54158ba198bf106a1fdfb": {
          "model_module": "@jupyter-widgets/controls",
          "model_name": "DescriptionStyleModel",
          "model_module_version": "1.5.0",
          "state": {
            "_model_module": "@jupyter-widgets/controls",
            "_model_module_version": "1.5.0",
            "_model_name": "DescriptionStyleModel",
            "_view_count": null,
            "_view_module": "@jupyter-widgets/base",
            "_view_module_version": "1.2.0",
            "_view_name": "StyleView",
            "description_width": ""
          }
        },
        "f91f9af4c4e946758f0d4f5359f1e325": {
          "model_module": "@jupyter-widgets/base",
          "model_name": "LayoutModel",
          "model_module_version": "1.2.0",
          "state": {
            "_model_module": "@jupyter-widgets/base",
            "_model_module_version": "1.2.0",
            "_model_name": "LayoutModel",
            "_view_count": null,
            "_view_module": "@jupyter-widgets/base",
            "_view_module_version": "1.2.0",
            "_view_name": "LayoutView",
            "align_content": null,
            "align_items": null,
            "align_self": null,
            "border": null,
            "bottom": null,
            "display": null,
            "flex": null,
            "flex_flow": null,
            "grid_area": null,
            "grid_auto_columns": null,
            "grid_auto_flow": null,
            "grid_auto_rows": null,
            "grid_column": null,
            "grid_gap": null,
            "grid_row": null,
            "grid_template_areas": null,
            "grid_template_columns": null,
            "grid_template_rows": null,
            "height": null,
            "justify_content": null,
            "justify_items": null,
            "left": null,
            "margin": null,
            "max_height": null,
            "max_width": null,
            "min_height": null,
            "min_width": null,
            "object_fit": null,
            "object_position": null,
            "order": null,
            "overflow": null,
            "overflow_x": null,
            "overflow_y": null,
            "padding": null,
            "right": null,
            "top": null,
            "visibility": null,
            "width": null
          }
        },
        "a9f9b4c5df3c48d8abc07e941dc38962": {
          "model_module": "@jupyter-widgets/controls",
          "model_name": "ProgressStyleModel",
          "model_module_version": "1.5.0",
          "state": {
            "_model_module": "@jupyter-widgets/controls",
            "_model_module_version": "1.5.0",
            "_model_name": "ProgressStyleModel",
            "_view_count": null,
            "_view_module": "@jupyter-widgets/base",
            "_view_module_version": "1.2.0",
            "_view_name": "StyleView",
            "bar_color": null,
            "description_width": ""
          }
        },
        "5f8ebb010e4d4d2d8723815b8e915a62": {
          "model_module": "@jupyter-widgets/base",
          "model_name": "LayoutModel",
          "model_module_version": "1.2.0",
          "state": {
            "_model_module": "@jupyter-widgets/base",
            "_model_module_version": "1.2.0",
            "_model_name": "LayoutModel",
            "_view_count": null,
            "_view_module": "@jupyter-widgets/base",
            "_view_module_version": "1.2.0",
            "_view_name": "LayoutView",
            "align_content": null,
            "align_items": null,
            "align_self": null,
            "border": null,
            "bottom": null,
            "display": null,
            "flex": null,
            "flex_flow": null,
            "grid_area": null,
            "grid_auto_columns": null,
            "grid_auto_flow": null,
            "grid_auto_rows": null,
            "grid_column": null,
            "grid_gap": null,
            "grid_row": null,
            "grid_template_areas": null,
            "grid_template_columns": null,
            "grid_template_rows": null,
            "height": null,
            "justify_content": null,
            "justify_items": null,
            "left": null,
            "margin": null,
            "max_height": null,
            "max_width": null,
            "min_height": null,
            "min_width": null,
            "object_fit": null,
            "object_position": null,
            "order": null,
            "overflow": null,
            "overflow_x": null,
            "overflow_y": null,
            "padding": null,
            "right": null,
            "top": null,
            "visibility": null,
            "width": null
          }
        },
        "6b915e6c2aac4ed8b2269c79e38c8001": {
          "model_module": "@jupyter-widgets/controls",
          "model_name": "DescriptionStyleModel",
          "model_module_version": "1.5.0",
          "state": {
            "_model_module": "@jupyter-widgets/controls",
            "_model_module_version": "1.5.0",
            "_model_name": "DescriptionStyleModel",
            "_view_count": null,
            "_view_module": "@jupyter-widgets/base",
            "_view_module_version": "1.2.0",
            "_view_name": "StyleView",
            "description_width": ""
          }
        }
      }
    }
  },
  "nbformat": 4,
  "nbformat_minor": 0
}